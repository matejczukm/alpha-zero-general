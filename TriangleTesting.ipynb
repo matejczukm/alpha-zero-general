{
 "cells": [
  {
   "cell_type": "code",
   "execution_count": 31,
   "id": "ca2d2e48-72db-467b-b0d8-83920c59fef1",
   "metadata": {},
   "outputs": [],
   "source": [
    "import unittest\n",
    "import PackitArena as Arena\n",
    "from PackitMCTS import MCTS\n",
    "import numpy as np\n",
    "from utils import * \n",
    "from TriangleGame.TriangleGame import TriangleGame\n",
    "from TriangleGame.TrianglePlayers import RandomPlayer\n",
    "from TriangleGame.keras.NNet import NNetWrapper as TriangleKerasNNet"
   ]
  },
  {
   "cell_type": "code",
   "execution_count": 25,
   "id": "4d2e310d-35ab-4d89-95ba-141805471c62",
   "metadata": {},
   "outputs": [],
   "source": [
    "def execute_game_test(game, neural_net):\n",
    "    rp = RandomPlayer(game).play\n",
    "\n",
    "\n",
    "    args = dotdict({'numMCTSSims': 25, 'cpuct': 1.0})\n",
    "    mcts = MCTS(game, neural_net(game), args)\n",
    "    n1p = lambda x, t: np.argmax(mcts.getActionProb(x, t, temp=0))\n",
    "    arena = Arena.Arena(n1p, rp, game)\n",
    "    print(arena.playGames(2, verbose=True))"
   ]
  },
  {
   "cell_type": "code",
   "execution_count": 26,
   "id": "fc2bb3b7-f740-4d66-8793-af94d89e7631",
   "metadata": {},
   "outputs": [
    {
     "name": "stderr",
     "output_type": "stream",
     "text": [
      "Arena.playGames (1):   0%|                                                                       | 0/1 [00:00<?, ?it/s]"
     ]
    },
    {
     "name": "stdout",
     "output_type": "stream",
     "text": [
      "Turn  1 Player  1\n",
      "[[0 0 0 0 0 0 0 0 0]\n",
      " [0 0 0 0 0 0 0 0 0]\n",
      " [0 0 0 0 0 0 0 0 0]\n",
      " [0 0 0 0 0 0 0 0 0]\n",
      " [0 0 0 0 0 0 0 0 0]]\n",
      "Turn  2 Player  -1\n",
      "[[0 0 0 0 0 0 0 0 0]\n",
      " [0 0 0 0 0 0 0 0 0]\n",
      " [0 0 0 0 0 0 0 0 0]\n",
      " [1 0 0 0 0 0 0 0 0]\n",
      " [0 0 0 0 0 0 0 0 0]]\n",
      "Turn  3 Player  1\n",
      "[[0 0 0 0 0 0 0 0 0]\n",
      " [0 0 0 0 0 0 0 0 0]\n",
      " [0 0 0 0 0 0 0 0 0]\n",
      " [1 1 1 0 0 0 0 0 0]\n",
      " [0 0 0 0 0 0 0 0 0]]\n"
     ]
    },
    {
     "name": "stderr",
     "output_type": "stream",
     "text": [
      "Arena.playGames (1): 100%|███████████████████████████████████████████████████████████████| 1/1 [00:03<00:00,  3.29s/it]\n"
     ]
    },
    {
     "name": "stdout",
     "output_type": "stream",
     "text": [
      "Turn  4 Player  -1\n",
      "[[0 0 0 0 0 0 0 0 0]\n",
      " [0 0 0 0 0 0 0 0 0]\n",
      " [0 0 0 0 0 0 0 0 0]\n",
      " [1 1 1 0 0 0 0 0 0]\n",
      " [0 0 0 0 1 1 1 0 0]]\n",
      "Turn  5 Player  1\n",
      "[[0 0 0 0 0 0 0 0 0]\n",
      " [0 0 0 0 0 0 0 0 0]\n",
      " [0 0 0 1 1 0 0 0 0]\n",
      " [1 1 1 0 0 1 1 0 0]\n",
      " [0 0 0 0 1 1 1 0 0]]\n",
      "Game over: Turn  5 Result: Player  1  wins!\n",
      "[[ 4  0  0  0  0  0  0  0  0]\n",
      " [ 4  4  0  0  0  0  0  0  0]\n",
      " [ 4  4  0  3  3  0  0  0  0]\n",
      " [-1  1  1  0  0  3  3  0  0]\n",
      " [ 0  0  0  0  2  2  2  0  0]]\n"
     ]
    },
    {
     "name": "stderr",
     "output_type": "stream",
     "text": [
      "Arena.playGames (2):   0%|                                                                       | 0/1 [00:00<?, ?it/s]"
     ]
    },
    {
     "name": "stdout",
     "output_type": "stream",
     "text": [
      "Turn  1 Player  1\n",
      "[[0 0 0 0 0 0 0 0 0]\n",
      " [0 0 0 0 0 0 0 0 0]\n",
      " [0 0 0 0 0 0 0 0 0]\n",
      " [0 0 0 0 0 0 0 0 0]\n",
      " [0 0 0 0 0 0 0 0 0]]\n",
      "Turn  2 Player  -1\n",
      "[[0 0 0 0 0 0 0 0 0]\n",
      " [0 0 0 0 0 0 0 0 0]\n",
      " [0 0 0 0 0 0 0 0 0]\n",
      " [0 0 0 1 1 0 0 0 0]\n",
      " [0 0 0 0 0 0 0 0 0]]\n",
      "Turn  3 Player  1\n",
      "[[0 0 0 0 0 0 0 0 0]\n",
      " [0 0 0 0 0 0 0 0 0]\n",
      " [0 0 0 0 0 0 0 0 0]\n",
      " [0 0 0 1 1 1 1 0 0]\n",
      " [0 0 0 0 0 0 0 0 0]]\n",
      "Turn  4 Player  -1\n",
      "[[0 0 0 0 0 0 0 0 0]\n",
      " [0 0 0 0 0 0 0 0 0]\n",
      " [0 0 0 0 0 0 0 0 0]\n",
      " [0 0 0 1 1 1 1 0 0]\n",
      " [1 1 1 0 0 0 0 0 0]]\n"
     ]
    },
    {
     "name": "stderr",
     "output_type": "stream",
     "text": [
      "Arena.playGames (2): 100%|███████████████████████████████████████████████████████████████| 1/1 [00:03<00:00,  3.16s/it]"
     ]
    },
    {
     "name": "stdout",
     "output_type": "stream",
     "text": [
      "Turn  5 Player  1\n",
      "[[0 0 0 0 0 0 0 0 0]\n",
      " [0 0 0 0 0 0 0 0 0]\n",
      " [0 0 0 0 0 0 0 0 0]\n",
      " [0 0 0 1 1 1 1 0 0]\n",
      " [1 1 1 1 1 1 1 0 0]]\n",
      "Game over: Turn  5 Result: Player  1  wins!\n",
      "[[ 0  0  0  0  0  0  0  0  0]\n",
      " [ 4  4  4  0  0  0  0  0  0]\n",
      " [ 0  4  4  4  0  0  0  0  0]\n",
      " [ 0  0  0 -1 -1  1  1  0  0]\n",
      " [ 2  2  2  3  3  3  3  0  0]]\n",
      "Player      Going First       Going Second   \n",
      "---------------------------------------------\n",
      "Player 1    1                 0              \n",
      "Player 2    0                 1              \n",
      "(1, 1, 0)\n"
     ]
    },
    {
     "name": "stderr",
     "output_type": "stream",
     "text": [
      "\n"
     ]
    }
   ],
   "source": [
    "execute_game_test(TriangleGame(5), TriangleKerasNNet)\n",
    "#final representation of game is wrong for triangles because unavailable fields are 0 not 1 as in hex"
   ]
  },
  {
   "cell_type": "code",
   "execution_count": 32,
   "id": "7b0ae554-5873-4448-82cc-de6cb4afb6da",
   "metadata": {},
   "outputs": [],
   "source": [
    "def test_against_random(game, nnet, args, num_games):\n",
    "\n",
    "    mcts = mcts = MCTS(game, nnet, args)\n",
    "    rp = RandomPlayer(game).play\n",
    "    n1p = lambda x, t: np.argmax(mcts.getActionProb(x, t, temp=0))\n",
    "    arena = Arena.Arena(n1p, rp, game)\n",
    "    print(arena.playGames(num_games, verbose=False))"
   ]
  },
  {
   "cell_type": "code",
   "execution_count": 33,
   "id": "7db4a135-45c4-4962-95cc-035ffd46e166",
   "metadata": {},
   "outputs": [
    {
     "name": "stderr",
     "output_type": "stream",
     "text": [
      "Arena.playGames (1): 100%|█████████████████████████████████████████████████████████████| 10/10 [00:30<00:00,  3.05s/it]\n",
      "Arena.playGames (2): 100%|█████████████████████████████████████████████████████████████| 10/10 [00:20<00:00,  2.02s/it]"
     ]
    },
    {
     "name": "stdout",
     "output_type": "stream",
     "text": [
      "Player      Going First       Going Second   \n",
      "---------------------------------------------\n",
      "Player 1    9                 7              \n",
      "Player 2    1                 3              \n",
      "(16, 4, 0)\n"
     ]
    },
    {
     "name": "stderr",
     "output_type": "stream",
     "text": [
      "\n"
     ]
    }
   ],
   "source": [
    "game = TriangleGame(5)\n",
    "nnet = TriangleKerasNNet(game)\n",
    "nnet.load_checkpoint(folder = \"tri_temp\", filename = \"temp\")\n",
    "args = dotdict({'numMCTSSims': 25, 'cpuct': 1.0})\n",
    "\n",
    "test_against_random(game, nnet, args, 20)"
   ]
  },
  {
   "cell_type": "code",
   "execution_count": null,
   "id": "5f0480fc-9b7a-49eb-804f-2bbb46351102",
   "metadata": {},
   "outputs": [],
   "source": []
  }
 ],
 "metadata": {
  "kernelspec": {
   "display_name": "Python 3 (ipykernel)",
   "language": "python",
   "name": "python3"
  },
  "language_info": {
   "codemirror_mode": {
    "name": "ipython",
    "version": 3
   },
   "file_extension": ".py",
   "mimetype": "text/x-python",
   "name": "python",
   "nbconvert_exporter": "python",
   "pygments_lexer": "ipython3",
   "version": "3.12.4"
  }
 },
 "nbformat": 4,
 "nbformat_minor": 5
}
