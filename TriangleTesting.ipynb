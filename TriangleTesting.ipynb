{
 "cells": [
  {
   "cell_type": "code",
   "execution_count": 4,
   "id": "ca2d2e48-72db-467b-b0d8-83920c59fef1",
   "metadata": {},
   "outputs": [],
   "source": [
    "import unittest\n",
    "import PackitArena as Arena\n",
    "from PackitMCTS import MCTS\n",
    "import numpy as np\n",
    "from utils import * \n",
    "from TriangleGame.TriangleGame import TriangleGame\n",
    "from TriangleGame.TrianglePlayers import RandomPlayer\n",
    "from TriangleGame.keras.NNet import NNetWrapper as TriangleNNet\n",
    "from TriangleGame.keras.NNetSmall import NNetWrapper as TriangleNNetSmall"
   ]
  },
  {
   "cell_type": "code",
   "execution_count": 3,
   "id": "4d2e310d-35ab-4d89-95ba-141805471c62",
   "metadata": {},
   "outputs": [],
   "source": [
    "def execute_game_test(game, neural_net):\n",
    "    rp = RandomPlayer(game).play\n",
    "\n",
    "\n",
    "    args = dotdict({'numMCTSSims': 25, 'cpuct': 1.0})\n",
    "    mcts = MCTS(game, neural_net(game), args)\n",
    "    n1p = lambda x, t: np.argmax(mcts.getActionProb(x, t, temp=0))\n",
    "    arena = Arena.Arena(n1p, rp, game)\n",
    "    print(arena.playGames(2, verbose=True))"
   ]
  },
  {
   "cell_type": "code",
   "execution_count": 7,
   "id": "fc2bb3b7-f740-4d66-8793-af94d89e7631",
   "metadata": {},
   "outputs": [
    {
     "name": "stderr",
     "output_type": "stream",
     "text": [
      "Arena.playGames (1):   0%|                                                                       | 0/1 [00:00<?, ?it/s]"
     ]
    },
    {
     "name": "stdout",
     "output_type": "stream",
     "text": [
      "Turn  1 Player  1\n",
      "[[0 0 0 0 0 0 0 0 0 0 0 0 0]\n",
      " [0 0 0 0 0 0 0 0 0 0 0 0 0]\n",
      " [0 0 0 0 0 0 0 0 0 0 0 0 0]\n",
      " [0 0 0 0 0 0 0 0 0 0 0 0 0]\n",
      " [0 0 0 0 0 0 0 0 0 0 0 0 0]\n",
      " [0 0 0 0 0 0 0 0 0 0 0 0 0]\n",
      " [0 0 0 0 0 0 0 0 0 0 0 0 0]]\n",
      "Turn  2 Player  -1\n",
      "[[0 0 0 0 0 0 0 0 0 0 0 0 0]\n",
      " [0 0 0 0 0 0 0 0 0 0 0 0 0]\n",
      " [0 0 0 0 0 0 0 0 0 0 0 0 0]\n",
      " [0 0 0 0 0 0 0 0 0 0 0 0 0]\n",
      " [0 0 0 0 0 0 0 0 0 0 0 0 0]\n",
      " [0 0 0 0 0 0 0 0 0 0 0 0 0]\n",
      " [0 0 0 0 0 0 1 0 0 0 0 0 0]]\n",
      "Turn  3 Player  1\n",
      "[[0 0 0 0 0 0 0 0 0 0 0 0 0]\n",
      " [0 0 0 0 0 0 0 0 0 0 0 0 0]\n",
      " [0 0 0 0 0 0 0 0 0 0 0 0 0]\n",
      " [0 0 0 0 0 0 0 0 0 0 0 0 0]\n",
      " [1 0 0 0 0 0 0 0 0 0 0 0 0]\n",
      " [1 1 0 0 0 0 0 0 0 0 0 0 0]\n",
      " [0 0 0 0 0 0 1 0 0 0 0 0 0]]\n",
      "Turn  4 Player  -1\n",
      "[[0 0 0 0 0 0 0 0 0 0 0 0 0]\n",
      " [0 0 0 0 0 0 0 0 0 0 0 0 0]\n",
      " [0 0 0 0 0 0 0 0 0 0 0 0 0]\n",
      " [0 0 0 0 0 0 0 0 0 0 0 0 0]\n",
      " [1 0 0 0 0 0 1 0 0 0 0 0 0]\n",
      " [1 1 0 0 0 0 1 1 0 0 0 0 0]\n",
      " [0 0 0 0 0 0 1 1 0 0 0 0 0]]\n",
      "Turn  5 Player  1\n",
      "[[0 0 0 0 0 0 0 0 0 0 0 0 0]\n",
      " [0 0 0 0 0 0 0 0 0 0 0 0 0]\n",
      " [0 0 0 1 1 0 0 0 0 0 0 0 0]\n",
      " [0 0 0 0 0 1 1 0 0 0 0 0 0]\n",
      " [1 0 0 0 0 0 1 0 0 0 0 0 0]\n",
      " [1 1 0 0 0 0 1 1 0 0 0 0 0]\n",
      " [0 0 0 0 0 0 1 1 0 0 0 0 0]]\n",
      "Turn  6 Player  -1\n",
      "[[0 0 0 0 0 0 0 0 0 0 0 0 0]\n",
      " [0 0 0 0 0 0 0 0 0 0 0 0 0]\n",
      " [0 0 0 1 1 0 0 0 0 0 0 0 0]\n",
      " [0 0 0 0 0 1 1 0 0 0 0 0 0]\n",
      " [1 0 0 0 0 0 1 0 0 0 0 0 0]\n",
      " [1 1 0 0 0 0 1 1 0 0 0 0 0]\n",
      " [0 1 1 1 1 1 1 1 0 0 0 0 0]]\n",
      "Turn  7 Player  1\n",
      "[[1 0 0 0 0 0 0 0 0 0 0 0 0]\n",
      " [1 1 0 0 0 0 0 0 0 0 0 0 0]\n",
      " [1 1 0 1 1 0 0 0 0 0 0 0 0]\n",
      " [1 1 0 0 0 1 1 0 0 0 0 0 0]\n",
      " [1 0 0 0 0 0 1 0 0 0 0 0 0]\n",
      " [1 1 0 0 0 0 1 1 0 0 0 0 0]\n",
      " [0 1 1 1 1 1 1 1 0 0 0 0 0]]\n"
     ]
    },
    {
     "name": "stderr",
     "output_type": "stream",
     "text": [
      "Arena.playGames (1): 100%|███████████████████████████████████████████████████████████████| 1/1 [00:05<00:00,  5.56s/it]\n"
     ]
    },
    {
     "name": "stdout",
     "output_type": "stream",
     "text": [
      "Turn  8 Player  -1\n",
      "[[1 0 0 0 0 0 0 0 0 0 0 0 0]\n",
      " [1 1 0 0 0 0 0 0 0 0 0 0 0]\n",
      " [1 1 0 1 1 0 0 0 0 0 0 0 0]\n",
      " [1 1 0 0 0 1 1 0 0 0 0 0 0]\n",
      " [1 1 1 1 1 1 1 0 0 0 0 0 0]\n",
      " [1 1 0 1 1 1 1 1 0 0 0 0 0]\n",
      " [0 1 1 1 1 1 1 1 0 0 0 0 0]]\n",
      "Game over: Turn  8 Result: Player  -1  wins!\n",
      "[[ 5  0  0  0  0  0  0  0  0  0  0  0  0]\n",
      " [ 5  5  0  0  0  0  0  0  0  0  0  0  0]\n",
      " [ 5  5  0  3  3  0  0  0  0  0  0  0  0]\n",
      " [ 5  5  0  0  0  3  3  0  0  0  0  0  0]\n",
      " [ 1  6  6  6  6  6  2  0  7  0  0  0  0]\n",
      " [ 1  1  0  6  6  6  2  2  7  7  7  0  0]\n",
      " [ 0  4  4  4  4  4 -1  2  0  7  7  7  7]]\n"
     ]
    },
    {
     "name": "stderr",
     "output_type": "stream",
     "text": [
      "Arena.playGames (2):   0%|                                                                       | 0/1 [00:00<?, ?it/s]"
     ]
    },
    {
     "name": "stdout",
     "output_type": "stream",
     "text": [
      "Turn  1 Player  1\n",
      "[[0 0 0 0 0 0 0 0 0 0 0 0 0]\n",
      " [0 0 0 0 0 0 0 0 0 0 0 0 0]\n",
      " [0 0 0 0 0 0 0 0 0 0 0 0 0]\n",
      " [0 0 0 0 0 0 0 0 0 0 0 0 0]\n",
      " [0 0 0 0 0 0 0 0 0 0 0 0 0]\n",
      " [0 0 0 0 0 0 0 0 0 0 0 0 0]\n",
      " [0 0 0 0 0 0 0 0 0 0 0 0 0]]\n",
      "Turn  2 Player  -1\n",
      "[[0 0 0 0 0 0 0 0 0 0 0 0 0]\n",
      " [0 0 0 0 0 0 0 0 0 0 0 0 0]\n",
      " [0 0 1 0 0 0 0 0 0 0 0 0 0]\n",
      " [0 0 0 1 0 0 0 0 0 0 0 0 0]\n",
      " [0 0 0 0 0 0 0 0 0 0 0 0 0]\n",
      " [0 0 0 0 0 0 0 0 0 0 0 0 0]\n",
      " [0 0 0 0 0 0 0 0 0 0 0 0 0]]\n",
      "Turn  3 Player  1\n",
      "[[0 0 0 0 0 0 0 0 0 0 0 0 0]\n",
      " [0 0 0 0 0 0 0 0 0 0 0 0 0]\n",
      " [0 0 1 1 1 0 0 0 0 0 0 0 0]\n",
      " [0 0 0 1 0 0 0 0 0 0 0 0 0]\n",
      " [0 0 0 0 0 0 0 0 0 0 0 0 0]\n",
      " [0 0 0 0 0 0 0 0 0 0 0 0 0]\n",
      " [0 0 0 0 0 0 0 0 0 0 0 0 0]]\n",
      "Turn  4 Player  -1\n",
      "[[0 0 0 0 0 0 0 0 0 0 0 0 0]\n",
      " [0 0 0 0 0 0 0 0 0 0 0 0 0]\n",
      " [0 0 1 1 1 0 0 0 0 0 0 0 0]\n",
      " [0 0 0 1 0 0 0 0 0 0 0 0 0]\n",
      " [0 0 0 0 0 0 0 0 0 0 0 0 0]\n",
      " [0 0 0 0 0 0 0 0 0 0 0 0 0]\n",
      " [0 0 0 0 1 1 1 1 0 0 0 0 0]]\n",
      "Turn  5 Player  1\n",
      "[[0 0 0 0 0 0 0 0 0 0 0 0 0]\n",
      " [1 1 0 0 0 0 0 0 0 0 0 0 0]\n",
      " [1 1 1 1 1 0 0 0 0 0 0 0 0]\n",
      " [0 1 0 1 0 0 0 0 0 0 0 0 0]\n",
      " [0 0 0 0 0 0 0 0 0 0 0 0 0]\n",
      " [0 0 0 0 0 0 0 0 0 0 0 0 0]\n",
      " [0 0 0 0 1 1 1 1 0 0 0 0 0]]\n",
      "Turn  6 Player  -1\n",
      "[[0 0 0 0 0 0 0 0 0 0 0 0 0]\n",
      " [1 1 0 0 0 0 0 0 0 0 0 0 0]\n",
      " [1 1 1 1 1 0 0 0 0 0 0 0 0]\n",
      " [0 1 0 1 0 0 0 0 0 0 0 0 0]\n",
      " [1 1 0 0 0 0 0 0 0 0 0 0 0]\n",
      " [1 1 0 0 0 0 0 0 0 0 0 0 0]\n",
      " [0 1 0 0 1 1 1 1 0 0 0 0 0]]\n"
     ]
    },
    {
     "name": "stderr",
     "output_type": "stream",
     "text": [
      "Arena.playGames (2): 100%|███████████████████████████████████████████████████████████████| 1/1 [00:04<00:00,  4.41s/it]"
     ]
    },
    {
     "name": "stdout",
     "output_type": "stream",
     "text": [
      "Turn  7 Player  1\n",
      "[[0 0 0 0 0 0 0 0 0 0 0 0 0]\n",
      " [1 1 0 0 0 0 0 0 0 0 0 0 0]\n",
      " [1 1 1 1 1 0 0 0 0 0 0 0 0]\n",
      " [0 1 0 1 1 0 0 0 0 0 0 0 0]\n",
      " [1 1 0 0 0 1 1 0 0 0 0 0 0]\n",
      " [1 1 0 0 0 0 0 1 1 0 0 0 0]\n",
      " [0 1 0 0 1 1 1 1 0 1 0 0 0]]\n",
      "Turn  8 Player  -1\n",
      "[[0 0 0 0 0 0 0 0 0 0 0 0 0]\n",
      " [1 1 0 0 0 0 0 0 0 0 0 0 0]\n",
      " [1 1 1 1 1 0 0 0 0 0 0 0 0]\n",
      " [0 1 0 1 1 0 0 0 0 0 0 0 0]\n",
      " [1 1 1 1 1 1 1 0 0 0 0 0 0]\n",
      " [1 1 1 1 1 1 0 1 1 0 0 0 0]\n",
      " [0 1 0 0 1 1 1 1 0 1 0 0 0]]\n",
      "Game over: Turn  8 Result: Player  -1  wins!\n",
      "[[ 0  0  0  0  0  0  0  0  0  0  0  0  0]\n",
      " [ 3  3  0  0  0  0  0  0  0  0  0  0  0]\n",
      " [ 3  3 -1  1  1  0  0  0  0  0  0  0  0]\n",
      " [ 0  3  0 -1  5  7  7  0  0  0  0  0  0]\n",
      " [ 4  4  6  6  6  5  5  7  7  0  0  0  0]\n",
      " [ 4  4  6  6  6  6  0  5  5  7  7  0  0]\n",
      " [ 0  4  0  0  2  2  2  2  0  5  0  7  7]]\n",
      "Player      Going First       Going Second   \n",
      "---------------------------------------------\n",
      "Player 1    0                 1              \n",
      "Player 2    0                 1              \n",
      "(1, 1, 0)\n"
     ]
    },
    {
     "name": "stderr",
     "output_type": "stream",
     "text": [
      "\n"
     ]
    }
   ],
   "source": [
    "execute_game_test(TriangleGame(7), TriangleKerasNNet)\n",
    "#final representation of game is wrong for triangles because unavailable fields are 0 not 1 as in hex"
   ]
  },
  {
   "cell_type": "code",
   "execution_count": 32,
   "id": "7b0ae554-5873-4448-82cc-de6cb4afb6da",
   "metadata": {},
   "outputs": [],
   "source": [
    "def test_against_random(game, nnet, args, num_games):\n",
    "\n",
    "    mcts = mcts = MCTS(game, nnet, args)\n",
    "    rp = RandomPlayer(game).play\n",
    "    n1p = lambda x, t: np.argmax(mcts.getActionProb(x, t, temp=0))\n",
    "    arena = Arena.Arena(n1p, rp, game)\n",
    "    print(arena.playGames(num_games, verbose=False))"
   ]
  },
  {
   "cell_type": "code",
   "execution_count": 33,
   "id": "7db4a135-45c4-4962-95cc-035ffd46e166",
   "metadata": {},
   "outputs": [
    {
     "name": "stderr",
     "output_type": "stream",
     "text": [
      "Arena.playGames (1): 100%|█████████████████████████████████████████████████████████████| 10/10 [00:30<00:00,  3.05s/it]\n",
      "Arena.playGames (2): 100%|█████████████████████████████████████████████████████████████| 10/10 [00:20<00:00,  2.02s/it]"
     ]
    },
    {
     "name": "stdout",
     "output_type": "stream",
     "text": [
      "Player      Going First       Going Second   \n",
      "---------------------------------------------\n",
      "Player 1    9                 7              \n",
      "Player 2    1                 3              \n",
      "(16, 4, 0)\n"
     ]
    },
    {
     "name": "stderr",
     "output_type": "stream",
     "text": [
      "\n"
     ]
    }
   ],
   "source": [
    "game = TriangleGame(5)\n",
    "nnet = TriangleKerasNNet(game)\n",
    "nnet.load_checkpoint(folder = \"tri_temp\", filename = \"temp\")\n",
    "args = dotdict({'numMCTSSims': 25, 'cpuct': 1.0})\n",
    "\n",
    "test_against_random(game, nnet, args, 20)"
   ]
  },
  {
   "cell_type": "code",
   "execution_count": 2,
   "id": "5f0480fc-9b7a-49eb-804f-2bbb46351102",
   "metadata": {},
   "outputs": [
    {
     "name": "stdout",
     "output_type": "stream",
     "text": [
      "Local weights file not found\n",
      "Downloading weights...\n",
      "Accessing  https://huggingface.co/lgfn/packit-polygons-models/resolve/main/triangle_models/size_3/best.weights.h5\n",
      "Checkpoint Directory does not exist! Making directory ./packit-polygons-models/triangle_models/size_3/\n"
     ]
    }
   ],
   "source": [
    "from PackitAIPlayer import AIPlayer\n",
    "\n",
    "aip = AIPlayer(3)"
   ]
  },
  {
   "cell_type": "code",
   "execution_count": 5,
   "id": "37e7bd67-9a95-48aa-b3be-75508ccd9406",
   "metadata": {},
   "outputs": [],
   "source": [
    "def execute_game_test_aip(aip):\n",
    "    rp = RandomPlayer(aip.game).play\n",
    "    aip_play = aip.nnet_get_action\n",
    "    arena = Arena.Arena(aip_play, rp, aip.game)\n",
    "    print(arena.playGames(2, verbose=False))"
   ]
  },
  {
   "cell_type": "code",
   "execution_count": 6,
   "id": "6a259f64-082a-4848-9d88-1496cb12505e",
   "metadata": {},
   "outputs": [
    {
     "name": "stderr",
     "output_type": "stream",
     "text": [
      "Arena.playGames (1):   0%|                                                                              | 0/1 [00:00<?, ?it/s]\n"
     ]
    },
    {
     "ename": "ValueError",
     "evalue": "The truth value of an array with more than one element is ambiguous. Use a.any() or a.all()",
     "output_type": "error",
     "traceback": [
      "\u001b[1;31m---------------------------------------------------------------------------\u001b[0m",
      "\u001b[1;31mValueError\u001b[0m                                Traceback (most recent call last)",
      "Cell \u001b[1;32mIn[6], line 1\u001b[0m\n\u001b[1;32m----> 1\u001b[0m \u001b[43mexecute_game_test_aip\u001b[49m\u001b[43m(\u001b[49m\u001b[43maip\u001b[49m\u001b[43m)\u001b[49m\n",
      "Cell \u001b[1;32mIn[5], line 5\u001b[0m, in \u001b[0;36mexecute_game_test_aip\u001b[1;34m(aip)\u001b[0m\n\u001b[0;32m      3\u001b[0m aip_play \u001b[38;5;241m=\u001b[39m aip\u001b[38;5;241m.\u001b[39mnnet_get_action\n\u001b[0;32m      4\u001b[0m arena \u001b[38;5;241m=\u001b[39m Arena\u001b[38;5;241m.\u001b[39mArena(aip_play, rp, aip\u001b[38;5;241m.\u001b[39mgame)\n\u001b[1;32m----> 5\u001b[0m \u001b[38;5;28mprint\u001b[39m(\u001b[43marena\u001b[49m\u001b[38;5;241;43m.\u001b[39;49m\u001b[43mplayGames\u001b[49m\u001b[43m(\u001b[49m\u001b[38;5;241;43m2\u001b[39;49m\u001b[43m,\u001b[49m\u001b[43m \u001b[49m\u001b[43mverbose\u001b[49m\u001b[38;5;241;43m=\u001b[39;49m\u001b[38;5;28;43;01mFalse\u001b[39;49;00m\u001b[43m)\u001b[49m)\n",
      "File \u001b[1;32m~\\Documents\\studia\\Inzynierka\\packit-polygons\\alpha-zero-general\\PackitArena.py:114\u001b[0m, in \u001b[0;36mArena.playGames\u001b[1;34m(self, num, verbose)\u001b[0m\n\u001b[0;32m    112\u001b[0m draws \u001b[38;5;241m=\u001b[39m \u001b[38;5;241m0\u001b[39m\n\u001b[0;32m    113\u001b[0m \u001b[38;5;28;01mfor\u001b[39;00m _ \u001b[38;5;129;01min\u001b[39;00m tqdm(\u001b[38;5;28mrange\u001b[39m(num), desc\u001b[38;5;241m=\u001b[39m\u001b[38;5;124m\"\u001b[39m\u001b[38;5;124mArena.playGames (1)\u001b[39m\u001b[38;5;124m\"\u001b[39m):\n\u001b[1;32m--> 114\u001b[0m     gameResult \u001b[38;5;241m=\u001b[39m \u001b[38;5;28;43mself\u001b[39;49m\u001b[38;5;241;43m.\u001b[39;49m\u001b[43mplayGame\u001b[49m\u001b[43m(\u001b[49m\u001b[43mverbose\u001b[49m\u001b[38;5;241;43m=\u001b[39;49m\u001b[43mverbose\u001b[49m\u001b[43m)\u001b[49m\n\u001b[0;32m    115\u001b[0m     \u001b[38;5;28;01mif\u001b[39;00m gameResult \u001b[38;5;241m==\u001b[39m \u001b[38;5;241m1\u001b[39m:\n\u001b[0;32m    116\u001b[0m         oneWon \u001b[38;5;241m+\u001b[39m\u001b[38;5;241m=\u001b[39m \u001b[38;5;241m1\u001b[39m\n",
      "File \u001b[1;32m~\\Documents\\studia\\Inzynierka\\packit-polygons\\alpha-zero-general\\PackitArena.py:63\u001b[0m, in \u001b[0;36mArena.playGame\u001b[1;34m(self, verbose)\u001b[0m\n\u001b[0;32m     59\u001b[0m action \u001b[38;5;241m=\u001b[39m players[curPlayer \u001b[38;5;241m+\u001b[39m \u001b[38;5;241m1\u001b[39m](\u001b[38;5;28mself\u001b[39m\u001b[38;5;241m.\u001b[39mgame\u001b[38;5;241m.\u001b[39mgetCanonicalForm(board, curPlayer), it)\n\u001b[0;32m     60\u001b[0m valids \u001b[38;5;241m=\u001b[39m \u001b[38;5;28mself\u001b[39m\u001b[38;5;241m.\u001b[39mgame\u001b[38;5;241m.\u001b[39mgetValidMoves(\u001b[38;5;28mself\u001b[39m\u001b[38;5;241m.\u001b[39mgame\u001b[38;5;241m.\u001b[39mgetCanonicalForm(board, curPlayer), \u001b[38;5;241m1\u001b[39m, it)\n\u001b[1;32m---> 63\u001b[0m \u001b[38;5;28;01mif\u001b[39;00m valids[action] \u001b[38;5;241m==\u001b[39m \u001b[38;5;241m0\u001b[39m:\n\u001b[0;32m     64\u001b[0m     log\u001b[38;5;241m.\u001b[39merror(\u001b[38;5;124mf\u001b[39m\u001b[38;5;124m'\u001b[39m\u001b[38;5;124mAction \u001b[39m\u001b[38;5;132;01m{\u001b[39;00maction\u001b[38;5;132;01m}\u001b[39;00m\u001b[38;5;124m is not valid!\u001b[39m\u001b[38;5;124m'\u001b[39m)\n\u001b[0;32m     65\u001b[0m     log\u001b[38;5;241m.\u001b[39mdebug(\u001b[38;5;124mf\u001b[39m\u001b[38;5;124m'\u001b[39m\u001b[38;5;124mvalids = \u001b[39m\u001b[38;5;132;01m{\u001b[39;00mvalids\u001b[38;5;132;01m}\u001b[39;00m\u001b[38;5;124m'\u001b[39m)\n",
      "\u001b[1;31mValueError\u001b[0m: The truth value of an array with more than one element is ambiguous. Use a.any() or a.all()"
     ]
    }
   ],
   "source": [
    "execute_game_test_aip(aip)"
   ]
  },
  {
   "cell_type": "code",
   "execution_count": 31,
   "id": "025370c8-df36-41e6-be71-4a51cae1a5ab",
   "metadata": {},
   "outputs": [
    {
     "data": {
      "text/plain": [
       "array([[0, 0, 0, 0, 0],\n",
       "       [0, 1, 0, 0, 0],\n",
       "       [0, 0, 0, 0, 0]])"
      ]
     },
     "execution_count": 31,
     "metadata": {},
     "output_type": "execute_result"
    }
   ],
   "source": [
    "aip.nnet_get_action(aip.game.getInitBoard(), 1)"
   ]
  },
  {
   "cell_type": "code",
   "execution_count": 29,
   "id": "6ba0cb8c-2dd4-462f-9768-8861c6c261c1",
   "metadata": {},
   "outputs": [
    {
     "data": {
      "text/plain": [
       "np.int64(17)"
      ]
     },
     "execution_count": 29,
     "metadata": {},
     "output_type": "execute_result"
    }
   ],
   "source": [
    "RandomPlayer(aip.game).play(aip.game.getInitBoard(), 1)"
   ]
  },
  {
   "cell_type": "code",
   "execution_count": 30,
   "id": "8e643cec-dbc5-4585-8cf0-08859eca746c",
   "metadata": {},
   "outputs": [
    {
     "data": {
      "text/plain": [
       "'dfijvbbndffjsnvijn'"
      ]
     },
     "execution_count": 30,
     "metadata": {},
     "output_type": "execute_result"
    }
   ],
   "source": [
    "a= 'dfijvbbndf'\n",
    "b = 'fjsnvijn'\n",
    "c=a+b\n",
    "c"
   ]
  },
  {
   "cell_type": "code",
   "execution_count": 31,
   "id": "d6cc4953-5849-4a73-ac68-2c8b9433b476",
   "metadata": {},
   "outputs": [
    {
     "data": {
      "text/plain": [
       "'dfijvbbndffjsnvijn'"
      ]
     },
     "execution_count": 31,
     "metadata": {},
     "output_type": "execute_result"
    }
   ],
   "source": [
    "a+=b\n",
    "a"
   ]
  },
  {
   "cell_type": "code",
   "execution_count": null,
   "id": "1d4bc210-dc08-4e81-86d3-9ffe27b7aaae",
   "metadata": {},
   "outputs": [],
   "source": [
    "aip("
   ]
  },
  {
   "cell_type": "code",
   "execution_count": 12,
   "id": "87b95c2b-000e-4049-8536-57db5ea6bbb7",
   "metadata": {},
   "outputs": [
    {
     "name": "stderr",
     "output_type": "stream",
     "text": [
      "C:\\Users\\User\\AppData\\Local\\Programs\\Python\\Python312\\Lib\\site-packages\\keras\\src\\saving\\saving_lib.py:757: UserWarning: Skipping variable loading for optimizer 'adam', because it has 2 variables whereas the saved optimizer has 46 variables. \n",
      "  saveable.load_own_variables(weights_store.get(inner_path))\n"
     ]
    }
   ],
   "source": [
    "import tensorflow as tf\n",
    "g = TriangleGame(3)\n",
    "nnet = TriangleNNetSmall(g)\n",
    "nnet.nnet.model.load_weights(tf.keras.utils.get_file('best.weights.h5', 'https://huggingface.co/lgfn/packit-polygons-models/resolve/main/triangle_models/size_3/best.weights.h5'))"
   ]
  },
  {
   "cell_type": "code",
   "execution_count": null,
   "id": "0b3fa8df-6a39-4044-b10a-619f8af5c908",
   "metadata": {},
   "outputs": [],
   "source": []
  }
 ],
 "metadata": {
  "kernelspec": {
   "display_name": "Python 3 (ipykernel)",
   "language": "python",
   "name": "python3"
  },
  "language_info": {
   "codemirror_mode": {
    "name": "ipython",
    "version": 3
   },
   "file_extension": ".py",
   "mimetype": "text/x-python",
   "name": "python",
   "nbconvert_exporter": "python",
   "pygments_lexer": "ipython3",
   "version": "3.12.4"
  }
 },
 "nbformat": 4,
 "nbformat_minor": 5
}
