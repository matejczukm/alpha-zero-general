{
 "cells": [
  {
   "cell_type": "code",
   "execution_count": 1,
   "id": "27b40fd9-bb3c-4432-8666-34e424757710",
   "metadata": {},
   "outputs": [],
   "source": [
    "import unittest\n",
    "import PackitArena\n",
    "from PackitMCTS import MCTS\n",
    "import numpy as np\n",
    "from utils import * "
   ]
  },
  {
   "cell_type": "code",
   "execution_count": 3,
   "id": "e6291a53-48d8-429d-a12f-667c694bd683",
   "metadata": {},
   "outputs": [],
   "source": [
    "def execute_game_test(game, neural_net):\n",
    "    rp = RandomPlayer(game).play\n",
    "\n",
    "\n",
    "    args = dotdict({'numMCTSSims': 25, 'cpuct': 1.0})\n",
    "    mcts = MCTS(game, neural_net(game), args)\n",
    "    n1p = lambda x, t: np.argmax(mcts.getActionProb(x, t, temp=0))\n",
    "    arena = PackitArena.Arena(n1p, rp, game)\n",
    "    print(arena.playGames(2, verbose=True))"
   ]
  },
  {
   "cell_type": "code",
   "execution_count": 4,
   "id": "684cc9be-6e6c-4937-a102-dc5c7d6c7ef4",
   "metadata": {},
   "outputs": [
    {
     "name": "stderr",
     "output_type": "stream",
     "text": [
      "Arena.playGames (1):   0%|                                                                       | 0/1 [00:00<?, ?it/s]"
     ]
    },
    {
     "name": "stdout",
     "output_type": "stream",
     "text": [
      "Turn  1 Player  1\n",
      "[[0. 0. 0. 0. 1. 1. 1.]\n",
      " [0. 0. 0. 0. 0. 1. 1.]\n",
      " [0. 0. 0. 0. 0. 0. 1.]\n",
      " [0. 0. 0. 0. 0. 0. 0.]\n",
      " [1. 0. 0. 0. 0. 0. 0.]\n",
      " [1. 1. 0. 0. 0. 0. 0.]\n",
      " [1. 1. 1. 0. 0. 0. 0.]]\n",
      "Turn  2 Player  -1\n",
      "[[0. 0. 0. 0. 1. 1. 1.]\n",
      " [1. 0. 0. 0. 0. 1. 1.]\n",
      " [1. 0. 0. 0. 0. 0. 1.]\n",
      " [0. 0. 0. 0. 0. 0. 0.]\n",
      " [1. 0. 0. 0. 0. 0. 0.]\n",
      " [1. 1. 0. 0. 0. 0. 0.]\n",
      " [1. 1. 1. 0. 0. 0. 0.]]\n",
      "Turn  3 Player  1\n",
      "[[0. 0. 0. 0. 1. 1. 1.]\n",
      " [1. 0. 0. 0. 0. 1. 1.]\n",
      " [1. 0. 0. 0. 0. 0. 1.]\n",
      " [0. 0. 0. 0. 0. 0. 0.]\n",
      " [1. 0. 0. 0. 0. 0. 0.]\n",
      " [1. 1. 0. 0. 0. 1. 0.]\n",
      " [1. 1. 1. 0. 0. 1. 0.]]\n"
     ]
    },
    {
     "name": "stderr",
     "output_type": "stream",
     "text": [
      "Arena.playGames (1): 100%|███████████████████████████████████████████████████████████████| 1/1 [00:03<00:00,  3.45s/it]\n"
     ]
    },
    {
     "name": "stdout",
     "output_type": "stream",
     "text": [
      "Turn  4 Player  -1\n",
      "[[0. 0. 0. 0. 1. 1. 1.]\n",
      " [1. 0. 0. 0. 0. 1. 1.]\n",
      " [1. 0. 0. 0. 0. 0. 1.]\n",
      " [0. 0. 0. 0. 0. 1. 0.]\n",
      " [1. 0. 0. 0. 0. 1. 1.]\n",
      " [1. 1. 0. 0. 0. 1. 0.]\n",
      " [1. 1. 1. 0. 0. 1. 0.]]\n",
      "Turn  5 Player  1\n",
      "[[0. 0. 0. 0. 1. 1. 1.]\n",
      " [1. 0. 0. 0. 0. 1. 1.]\n",
      " [1. 0. 0. 0. 0. 0. 1.]\n",
      " [0. 0. 1. 1. 0. 1. 0.]\n",
      " [1. 0. 1. 1. 1. 1. 1.]\n",
      " [1. 1. 0. 0. 0. 1. 0.]\n",
      " [1. 1. 1. 0. 0. 1. 0.]]\n",
      "Game over: Turn  5 Result: Player  1  wins!\n",
      "[[ 0.  0.  0.  0. -1. -1. -1.]\n",
      " [ 1.  5.  5.  5.  0. -1. -1.]\n",
      " [ 1.  0.  5.  5.  0.  0. -1.]\n",
      " [ 0.  0.  4.  4.  0.  3.  0.]\n",
      " [-1.  0.  4.  4.  4.  3.  3.]\n",
      " [-1. -1.  0.  0.  0.  2.  0.]\n",
      " [-1. -1. -1.  0.  0.  2.  0.]]\n"
     ]
    },
    {
     "name": "stderr",
     "output_type": "stream",
     "text": [
      "Arena.playGames (2):   0%|                                                                       | 0/1 [00:00<?, ?it/s]"
     ]
    },
    {
     "name": "stdout",
     "output_type": "stream",
     "text": [
      "Turn  1 Player  1\n",
      "[[0. 0. 0. 0. 1. 1. 1.]\n",
      " [0. 0. 0. 0. 0. 1. 1.]\n",
      " [0. 0. 0. 0. 0. 0. 1.]\n",
      " [0. 0. 0. 0. 0. 0. 0.]\n",
      " [1. 0. 0. 0. 0. 0. 0.]\n",
      " [1. 1. 0. 0. 0. 0. 0.]\n",
      " [1. 1. 1. 0. 0. 0. 0.]]\n",
      "Turn  2 Player  -1\n",
      "[[1. 0. 0. 0. 1. 1. 1.]\n",
      " [0. 1. 0. 0. 0. 1. 1.]\n",
      " [0. 0. 0. 0. 0. 0. 1.]\n",
      " [0. 0. 0. 0. 0. 0. 0.]\n",
      " [1. 0. 0. 0. 0. 0. 0.]\n",
      " [1. 1. 0. 0. 0. 0. 0.]\n",
      " [1. 1. 1. 0. 0. 0. 0.]]\n",
      "Turn  3 Player  1\n",
      "[[1. 0. 0. 0. 1. 1. 1.]\n",
      " [0. 1. 0. 0. 0. 1. 1.]\n",
      " [0. 0. 0. 0. 0. 0. 1.]\n",
      " [0. 0. 0. 0. 0. 1. 1.]\n",
      " [1. 0. 0. 0. 0. 0. 1.]\n",
      " [1. 1. 0. 0. 0. 0. 0.]\n",
      " [1. 1. 1. 0. 0. 0. 0.]]\n",
      "Turn  4 Player  -1\n",
      "[[1. 1. 1. 1. 1. 1. 1.]\n",
      " [0. 1. 0. 0. 0. 1. 1.]\n",
      " [0. 0. 0. 0. 0. 0. 1.]\n",
      " [0. 0. 0. 0. 0. 1. 1.]\n",
      " [1. 0. 0. 0. 0. 0. 1.]\n",
      " [1. 1. 0. 0. 0. 0. 0.]\n",
      " [1. 1. 1. 0. 0. 0. 0.]]\n"
     ]
    },
    {
     "name": "stderr",
     "output_type": "stream",
     "text": [
      "Arena.playGames (2): 100%|███████████████████████████████████████████████████████████████| 1/1 [00:02<00:00,  2.93s/it]"
     ]
    },
    {
     "name": "stdout",
     "output_type": "stream",
     "text": [
      "Turn  5 Player  1\n",
      "[[1. 1. 1. 1. 1. 1. 1.]\n",
      " [0. 1. 0. 0. 0. 1. 1.]\n",
      " [0. 0. 0. 0. 0. 0. 1.]\n",
      " [0. 0. 0. 0. 0. 1. 1.]\n",
      " [1. 0. 0. 1. 1. 1. 1.]\n",
      " [1. 1. 0. 0. 1. 1. 0.]\n",
      " [1. 1. 1. 0. 0. 0. 0.]]\n",
      "Turn  6 Player  -1\n",
      "[[1. 1. 1. 1. 1. 1. 1.]\n",
      " [0. 1. 0. 0. 0. 1. 1.]\n",
      " [0. 1. 1. 0. 0. 0. 1.]\n",
      " [0. 1. 1. 1. 0. 1. 1.]\n",
      " [1. 0. 0. 1. 1. 1. 1.]\n",
      " [1. 1. 0. 0. 1. 1. 0.]\n",
      " [1. 1. 1. 0. 0. 0. 0.]]\n",
      "Game over: Turn  6 Result: Player  -1  wins!\n",
      "[[ 1.  3.  3.  3. -1. -1. -1.]\n",
      " [ 0.  1.  0.  0.  0. -1. -1.]\n",
      " [ 0.  5.  5.  0.  0.  0. -1.]\n",
      " [ 0.  5.  5.  5.  0.  2.  2.]\n",
      " [-1.  6.  6.  4.  4.  4.  2.]\n",
      " [-1. -1.  6.  6.  4.  4.  0.]\n",
      " [-1. -1. -1.  6.  6.  0.  0.]]\n",
      "Player      Going First       Going Second   \n",
      "---------------------------------------------\n",
      "Player 1    1                 1              \n",
      "Player 2    0                 0              \n",
      "(2, 0, 0)\n"
     ]
    },
    {
     "name": "stderr",
     "output_type": "stream",
     "text": [
      "\n"
     ]
    }
   ],
   "source": [
    "execute_game_test(HexGame(4), HexKerasNNet)"
   ]
  },
  {
   "cell_type": "code",
   "execution_count": 15,
   "id": "dbca6628-4662-4267-a85a-b39242137ede",
   "metadata": {},
   "outputs": [
    {
     "data": {
      "text/plain": [
       "(array([0.00486861, 0.00487728, 0.00487913, 0.00488055, 0.00488691,\n",
       "        0.00486109, 0.00489082, 0.00488529, 0.00491139, 0.0048868 ,\n",
       "        0.00487768, 0.00490625, 0.00487706, 0.00486915, 0.00486798,\n",
       "        0.00487317, 0.00489554, 0.0049123 , 0.00488783, 0.00486101,\n",
       "        0.0048847 , 0.00485822, 0.00486018, 0.00487092, 0.00486662,\n",
       "        0.00489542, 0.00490045, 0.00484148, 0.00487869, 0.00487315,\n",
       "        0.00486395, 0.00487833, 0.00488139, 0.00484894, 0.00487863,\n",
       "        0.00488347, 0.00486468, 0.00486168, 0.00487296, 0.00487186,\n",
       "        0.00486761, 0.00486241, 0.00485719, 0.00487841, 0.00488499,\n",
       "        0.0048598 , 0.00486728, 0.00490097, 0.00490032, 0.00486712,\n",
       "        0.00489965, 0.00487871, 0.00487152, 0.00485906, 0.0048478 ,\n",
       "        0.00487357, 0.00485728, 0.00486968, 0.00489175, 0.00486352,\n",
       "        0.00485461, 0.00487274, 0.00492489, 0.00488467, 0.00488076,\n",
       "        0.0049067 , 0.00488068, 0.00487736, 0.00488203, 0.00489721,\n",
       "        0.00486768, 0.00488491, 0.00486205, 0.00486983, 0.00484901,\n",
       "        0.00487264, 0.004894  , 0.00488347, 0.0048882 , 0.00488022,\n",
       "        0.00489225, 0.00488648, 0.00486381, 0.00487849, 0.00488664,\n",
       "        0.00493597, 0.00488206, 0.00486185, 0.00486692, 0.00487571,\n",
       "        0.0048684 , 0.00486871, 0.00493324, 0.00487582, 0.00487346,\n",
       "        0.00485853, 0.00487325, 0.00489242, 0.0048567 , 0.00489216,\n",
       "        0.00485244, 0.00490019, 0.00486207, 0.00487975, 0.00487773,\n",
       "        0.00488154, 0.00489763, 0.00487117, 0.00487528, 0.00486575,\n",
       "        0.0048817 , 0.00489344, 0.00487357, 0.004885  , 0.00487475,\n",
       "        0.00489438, 0.00487359, 0.00486407, 0.0048807 , 0.00488521,\n",
       "        0.00486841, 0.00489015, 0.004893  , 0.00488087, 0.00487735,\n",
       "        0.00486076, 0.00486651, 0.00487509, 0.00489395, 0.00487873,\n",
       "        0.0049056 , 0.00485865, 0.00489992, 0.00490362, 0.0048746 ,\n",
       "        0.00488639, 0.00486185, 0.00489713, 0.00485451, 0.00489096,\n",
       "        0.00490942, 0.0048664 , 0.00485119, 0.0048708 , 0.00487646,\n",
       "        0.00488355, 0.0048737 , 0.00489006, 0.0048926 , 0.00487615,\n",
       "        0.00486262, 0.00489693, 0.00490311, 0.00489353, 0.00484701,\n",
       "        0.00489735, 0.00488939, 0.00484828, 0.00487856, 0.00487763,\n",
       "        0.00485829, 0.00487166, 0.00486355, 0.00488727, 0.00484708,\n",
       "        0.00487557, 0.00486246, 0.00487889, 0.00488461, 0.00487588,\n",
       "        0.00487373, 0.0048921 , 0.00489869, 0.00487422, 0.00484564,\n",
       "        0.00487709, 0.00488548, 0.00487921, 0.00487977, 0.00487985,\n",
       "        0.00488502, 0.00490307, 0.00485165, 0.00489007, 0.00488991,\n",
       "        0.00489311, 0.00489859, 0.00483405, 0.00487031, 0.00487348,\n",
       "        0.0048802 , 0.00487838, 0.00486062, 0.00487852, 0.00488367,\n",
       "        0.0048732 , 0.00489526, 0.00487364, 0.00487352, 0.00489325,\n",
       "        0.00487915, 0.00487443, 0.00486225, 0.00488934, 0.00486471],\n",
       "       dtype=float32),\n",
       " array([-0.00011838], dtype=float32))"
      ]
     },
     "execution_count": 15,
     "metadata": {},
     "output_type": "execute_result"
    }
   ],
   "source": [
    "game = HexGame(3)\n",
    "nnet = HexKerasNNet(game)\n",
    "nnet.predict(game.getInitBoard())"
   ]
  },
  {
   "cell_type": "code",
   "execution_count": 16,
   "id": "bfbfb434-e943-4a00-a2b9-724036977204",
   "metadata": {},
   "outputs": [],
   "source": [
    "nnet.load_checkpoint('temp', 'best.pth.tar')"
   ]
  },
  {
   "cell_type": "code",
   "execution_count": 19,
   "id": "f68ee111-85a1-4725-83b3-b458e87aa393",
   "metadata": {},
   "outputs": [
    {
     "data": {
      "text/plain": [
       "np.int64(23)"
      ]
     },
     "execution_count": 19,
     "metadata": {},
     "output_type": "execute_result"
    }
   ],
   "source": [
    "np.argmax(nnet.predict(game.getInitBoard())[0])"
   ]
  },
  {
   "cell_type": "code",
   "execution_count": 20,
   "id": "25dcda0e-9272-45e5-b11d-9ba79729e072",
   "metadata": {},
   "outputs": [
    {
     "data": {
      "text/plain": [
       "array([[0., 0., 0., 0., 0.],\n",
       "       [0., 1., 0., 0., 0.],\n",
       "       [0., 1., 0., 0., 0.],\n",
       "       [0., 0., 0., 0., 0.],\n",
       "       [0., 0., 0., 0., 0.]])"
      ]
     },
     "execution_count": 20,
     "metadata": {},
     "output_type": "execute_result"
    }
   ],
   "source": [
    "game.action_space[23]"
   ]
  },
  {
   "cell_type": "code",
   "execution_count": 31,
   "id": "4322d87f-dbe4-4d7a-83a2-d06d2407da6f",
   "metadata": {},
   "outputs": [],
   "source": [
    "def nnet_model_move(game, board, nnet, turn):\n",
    "     valids = game.getValidMoves(board, 1, turn)\n",
    "     pi, v = nnet.predict(board)\n",
    "     action_ix = np.argmax(pi*valids)\n",
    "     print(game.max_k)\n",
    "\n",
    "     return game.action_space[action_ix]"
   ]
  },
  {
   "cell_type": "code",
   "execution_count": null,
   "id": "2e1f4760-e483-437d-b4a6-a57e09c9ad98",
   "metadata": {},
   "outputs": [],
   "source": [
    "game = "
   ]
  },
  {
   "cell_type": "code",
   "execution_count": 38,
   "id": "826de6fe-598d-4783-9d83-974e63238c9b",
   "metadata": {},
   "outputs": [
    {
     "name": "stdout",
     "output_type": "stream",
     "text": [
      "5\n"
     ]
    },
    {
     "data": {
      "text/plain": [
       "array([[0., 0., 0., 0., 0.],\n",
       "       [0., 1., 0., 0., 0.],\n",
       "       [0., 1., 0., 0., 0.],\n",
       "       [0., 0., 0., 0., 0.],\n",
       "       [0., 0., 0., 0., 0.]])"
      ]
     },
     "execution_count": 38,
     "metadata": {},
     "output_type": "execute_result"
    }
   ],
   "source": [
    "nnet_model_move(game, game.getInitBoard(), nnet, 1)"
   ]
  },
  {
   "cell_type": "code",
   "execution_count": null,
   "id": "014c30cd-7aaa-4cdd-a7c7-b1c67b19a8a2",
   "metadata": {},
   "outputs": [],
   "source": [
    "import seaborn as sns\n",
    "import pandas as pd\n",
    "\n",
    "action_space = [0]*9\n",
    "space = list(range(3, 12))\n",
    "\n",
    "for i in range(3, 12):\n",
    "    print(\"Calculating for board of size \", i, \"...\")\n",
    "    game = HexGame(i)\n",
    "    action_space[i-3] = len(game.action_space)\n",
    "\n",
    "df = pd.DataFrame({\n",
    "    \"Board Size\": space,\n",
    "    \"Action Space\": action_space\n",
    "})\n",
    "plot = sns.lineplot(x=\"space\", y=\"action_space\", data=df)"
   ]
  },
  {
   "cell_type": "code",
   "execution_count": 29,
   "id": "16fcdf03-55dc-49b9-bc8f-d0a7983146da",
   "metadata": {},
   "outputs": [
    {
     "data": {
      "image/png": "[encoded data removed]",
      "text/plain": [
       "<Figure size 640x480 with 1 Axes>"
      ]
     },
     "metadata": {},
     "output_type": "display_data"
    }
   ],
   "source": [
    "plot = sns.lineplot(df, x=\"Board Size\", y = \"Action Space\")"
   ]
  },
  {
   "cell_type": "code",
   "execution_count": 1,
   "id": "5fbdf033-20c2-4189-8a2e-8cbdac662ade",
   "metadata": {},
   "outputs": [],
   "source": [
    "from HexGame.HexGame import HexGame\n",
    "from HexGame.HexPlayers import RandomPlayer\n",
    "from HexGame.keras.NNet import NNetWrapper as HexKerasNNet"
   ]
  },
  {
   "cell_type": "code",
   "execution_count": 4,
   "id": "37358847-f36f-42d9-9570-a4cae8920f3a",
   "metadata": {},
   "outputs": [],
   "source": [
    "from PackitAIPlayer import AIPlayer\n",
    "from TriangleGame.TriangleGame import TriangleGame"
   ]
  },
  {
   "cell_type": "code",
   "execution_count": 5,
   "id": "5c52bca2-8434-418a-93a3-3cc5709cd84b",
   "metadata": {},
   "outputs": [
    {
     "data": {
      "text/plain": [
       "array([0., 0., 0., 0., 0., 0., 0., 0., 0., 0., 0., 0., 0., 0., 0., 0., 0.,\n",
       "       0., 0., 0., 0., 0., 0., 0., 0., 1., 1., 1., 1., 1., 1., 1., 1., 1.,\n",
       "       1., 1., 1., 1., 1., 1., 1., 1., 1., 1., 1., 0., 1., 1., 1., 1., 1.,\n",
       "       1., 1., 1., 1., 1., 1., 1., 1., 1., 1., 1., 1., 1., 1., 0., 1., 1.,\n",
       "       1., 1., 1., 1., 1., 1., 1., 0., 1., 1., 1., 1., 1., 1., 1., 1., 1.,\n",
       "       1., 1., 1., 1., 1., 1., 1., 1., 1., 1., 1., 1., 1., 1., 1., 1., 1.,\n",
       "       1., 0., 0., 0., 0., 0., 0., 0., 0., 0., 0., 0., 0., 0., 0., 0., 0.,\n",
       "       0., 0., 0., 0., 0., 0., 0., 0., 0., 0., 0., 0., 0., 0., 0., 0., 0.,\n",
       "       0., 0., 0., 0., 0., 0., 0., 0., 0., 0., 0., 0., 0., 0., 0., 0., 0.,\n",
       "       0., 0., 0., 0., 0., 0., 0., 0., 0., 0., 0., 0., 0., 0., 0., 0., 0.,\n",
       "       0., 0., 0., 0., 0., 0., 0., 0., 0., 0., 0., 0., 0., 0., 0., 0., 0.,\n",
       "       0., 0., 0., 0., 0., 0., 0., 0., 0., 0., 0., 0., 0., 0., 0., 0.])"
      ]
     },
     "execution_count": 5,
     "metadata": {},
     "output_type": "execute_result"
    }
   ],
   "source": [
    "aip = AIPlayer(5, mode = 'tri')\n",
    "game = TriangleGame(5)\n",
    "board = game.getInitBoard() + aip.nnet_get_action(game.getInitBoard(), 1)\n",
    "game.getValidMoves(board, 1, 2)"
   ]
  },
  {
   "cell_type": "code",
   "execution_count": 6,
   "id": "952b1421-73fb-451e-bc11-ee0c484f92b8",
   "metadata": {},
   "outputs": [
    {
     "data": {
      "text/plain": [
       "array([[1, 0, 0, 0, 0, 0, 0, 0, 0],\n",
       "       [0, 0, 0, 0, 0, 0, 0, 0, 0],\n",
       "       [0, 0, 0, 0, 0, 0, 0, 0, 0],\n",
       "       [0, 0, 0, 0, 0, 0, 0, 0, 0],\n",
       "       [0, 0, 0, 0, 0, 0, 0, 0, 0]])"
      ]
     },
     "execution_count": 6,
     "metadata": {},
     "output_type": "execute_result"
    }
   ],
   "source": [
    "board"
   ]
  },
  {
   "cell_type": "code",
   "execution_count": 30,
   "id": "b03b5618-20ef-476e-898c-a96e1e8460df",
   "metadata": {},
   "outputs": [
    {
     "data": {
      "text/plain": [
       "array([[1, 0, 0, 0, 0, 0, 0, 0, 0],\n",
       "       [0, 0, 0, 0, 0, 0, 0, 0, 0],\n",
       "       [1, 1, 1, 0, 0, 0, 0, 0, 0],\n",
       "       [0, 0, 0, 0, 0, 0, 0, 0, 0],\n",
       "       [0, 0, 0, 0, 0, 0, 0, 0, 0]])"
      ]
     },
     "execution_count": 30,
     "metadata": {},
     "output_type": "execute_result"
    }
   ],
   "source": [
    "aip.mcts_get_action(board, 2) + board"
   ]
  },
  {
   "cell_type": "code",
   "execution_count": 186,
   "id": "2432c509-42f7-4c7e-aec5-22e03a721caa",
   "metadata": {},
   "outputs": [
    {
     "name": "stdout",
     "output_type": "stream",
     "text": [
      "[0, 0, 0, 0, 0, 0, 0, 0, 0, 0, 0, 0, 0, 0, 0, 0, 0, 0, 0, 0, 0, 0, 0, 0, 0, 0, 0, 0, 0, 0, 0, 0, 0, 0, 0, 0, 0, 0, 0, 0, 0, 0, 0, 0, 0, 0, 0, 0, 0, 0, 0, 0, 0, 0, 0, 0, 0, 0, 0, 0, 0, 0, 0, 0, 0, 0, 0, 0, 0, 0, 0, 0, 0, 0, 0, 0, 0, 0, 0, 0, 0, 0, 0, 0, 0, 0, 0, 0, 0, 0, 1, 0, 0, 0, 0, 0, 0, 0, 0, 0, 0, 0, 0, 0, 0, 0, 0, 0, 0, 0, 0, 0, 0, 0, 0, 0, 0, 0, 0, 0, 0, 0, 0, 0, 0, 0, 0, 0, 0, 0, 0, 0, 0, 0, 0, 0, 0, 0, 0, 0, 0, 0, 0, 0, 0, 0, 0, 0, 0, 0, 0, 0, 0, 0, 0, 0, 0, 0, 0, 0, 0, 0, 0, 0, 0, 0, 0, 0, 0, 0, 0, 0, 0, 0, 0, 0, 0, 0, 0, 0, 0, 0, 0, 0, 0, 0, 0, 0, 0, 0, 0, 0, 0, 0, 0, 0, 0, 0, 0, 0, 0, 0, 0, 0, 0]\n"
     ]
    }
   ],
   "source": [
    "board = aip.mcts_get_action(board, 3)+board"
   ]
  },
  {
   "cell_type": "code",
   "execution_count": 188,
   "id": "eeb8c139-0ef3-47c3-baf1-60700bca3619",
   "metadata": {},
   "outputs": [
    {
     "data": {
      "text/plain": [
       "array([[0., 0., 1., 1., 1.],\n",
       "       [0., 0., 1., 0., 1.],\n",
       "       [0., 0., 1., 0., 0.],\n",
       "       [1., 1., 0., 1., 0.],\n",
       "       [1., 1., 1., 1., 1.]])"
      ]
     },
     "execution_count": 188,
     "metadata": {},
     "output_type": "execute_result"
    }
   ],
   "source": [
    "board"
   ]
  },
  {
   "cell_type": "code",
   "execution_count": 33,
   "id": "f9381a15-8be7-4e7c-84ad-0f754360e977",
   "metadata": {},
   "outputs": [
    {
     "ename": "ValueError",
     "evalue": "'a' cannot be empty unless no samples are taken",
     "output_type": "error",
     "traceback": [
      "\u001b[1;31m---------------------------------------------------------------------------\u001b[0m",
      "\u001b[1;31mValueError\u001b[0m                                Traceback (most recent call last)",
      "Cell \u001b[1;32mIn[33], line 1\u001b[0m\n\u001b[1;32m----> 1\u001b[0m \u001b[43maip\u001b[49m\u001b[38;5;241;43m.\u001b[39;49m\u001b[43mmcts_get_action\u001b[49m\u001b[43m(\u001b[49m\u001b[43mboard\u001b[49m\u001b[43m,\u001b[49m\u001b[43m \u001b[49m\u001b[38;5;241;43m7\u001b[39;49m\u001b[43m)\u001b[49m\u001b[38;5;241m+\u001b[39mboard\n",
      "File \u001b[1;32m~\\Documents\\studia\\Inzynierka\\packit-polygons\\alpha-zero-general\\PackitAIPlayer.py:38\u001b[0m, in \u001b[0;36mAIPlayer.mcts_get_action\u001b[1;34m(self, board, turn)\u001b[0m\n\u001b[0;32m     36\u001b[0m \u001b[38;5;28;01mif\u001b[39;00m np\u001b[38;5;241m.\u001b[39mmax(probs\u001b[38;5;241m*\u001b[39mvalids)\u001b[38;5;241m==\u001b[39m\u001b[38;5;241m0\u001b[39m:\n\u001b[0;32m     37\u001b[0m     log\u001b[38;5;241m.\u001b[39minfo(\u001b[38;5;124m'\u001b[39m\u001b[38;5;124mReturning random move\u001b[39m\u001b[38;5;124m'\u001b[39m)\n\u001b[1;32m---> 38\u001b[0m     action_ix \u001b[38;5;241m=\u001b[39m \u001b[43mnp\u001b[49m\u001b[38;5;241;43m.\u001b[39;49m\u001b[43mrandom\u001b[49m\u001b[38;5;241;43m.\u001b[39;49m\u001b[43mchoice\u001b[49m\u001b[43m(\u001b[49m\u001b[43mnp\u001b[49m\u001b[38;5;241;43m.\u001b[39;49m\u001b[43mnonzero\u001b[49m\u001b[43m(\u001b[49m\u001b[43mvalids\u001b[49m\u001b[43m)\u001b[49m\u001b[43m[\u001b[49m\u001b[38;5;241;43m0\u001b[39;49m\u001b[43m]\u001b[49m\u001b[43m)\u001b[49m\n\u001b[0;32m     39\u001b[0m     \u001b[38;5;28;01mreturn\u001b[39;00m \u001b[38;5;28mself\u001b[39m\u001b[38;5;241m.\u001b[39mgame\u001b[38;5;241m.\u001b[39maction_space[action_ix]\n\u001b[0;32m     40\u001b[0m action_ix \u001b[38;5;241m=\u001b[39m np\u001b[38;5;241m.\u001b[39margmax(probs\u001b[38;5;241m*\u001b[39mvalids)\n",
      "File \u001b[1;32mnumpy\\\\random\\\\mtrand.pyx:974\u001b[0m, in \u001b[0;36mnumpy.random.mtrand.RandomState.choice\u001b[1;34m()\u001b[0m\n",
      "\u001b[1;31mValueError\u001b[0m: 'a' cannot be empty unless no samples are taken"
     ]
    }
   ],
   "source": [
    "aip.mcts_get_action(board, 7)+board"
   ]
  },
  {
   "cell_type": "code",
   "execution_count": 208,
   "id": "45092735-a099-4b92-b39a-4c98493daa38",
   "metadata": {},
   "outputs": [
    {
     "data": {
      "text/plain": [
       "np.int64(156)"
      ]
     },
     "execution_count": 208,
     "metadata": {},
     "output_type": "execute_result"
    }
   ],
   "source": [
    "import numpy as np\n",
    "np.random.choice(np.nonzero(game.getValidMoves(board, 1, 4))[0])"
   ]
  },
  {
   "cell_type": "code",
   "execution_count": 200,
   "id": "542e2db2-f251-4c22-87d2-652280431605",
   "metadata": {},
   "outputs": [
    {
     "data": {
      "text/plain": [
       "(array([120, 126, 130, 132, 156, 172]),)"
      ]
     },
     "execution_count": 200,
     "metadata": {},
     "output_type": "execute_result"
    }
   ],
   "source": [
    "np.nonzero(game.getValidMoves(board, 1, 4))"
   ]
  },
  {
   "cell_type": "code",
   "execution_count": 35,
   "id": "e804266a-78f0-4f35-8880-3c62b34de61e",
   "metadata": {},
   "outputs": [],
   "source": [
    "size = 3\n",
    "a = './triangle_models/size_'+str(size)+'/'"
   ]
  },
  {
   "cell_type": "code",
   "execution_count": 36,
   "id": "040326c5-97fd-49e0-a6b3-2884db75264f",
   "metadata": {},
   "outputs": [
    {
     "data": {
      "text/plain": [
       "'./triangle_models/size_3/'"
      ]
     },
     "execution_count": 36,
     "metadata": {},
     "output_type": "execute_result"
    }
   ],
   "source": [
    "a"
   ]
  },
  {
   "cell_type": "code",
   "execution_count": null,
   "id": "5cfa663d-ecf6-4e2c-af5b-3f88180cc835",
   "metadata": {},
   "outputs": [],
   "source": []
  }
 ],
 "metadata": {
  "kernelspec": {
   "display_name": "Python 3 (ipykernel)",
   "language": "python",
   "name": "python3"
  },
  "language_info": {
   "codemirror_mode": {
    "name": "ipython",
    "version": 3
   },
   "file_extension": ".py",
   "mimetype": "text/x-python",
   "name": "python",
   "nbconvert_exporter": "python",
   "pygments_lexer": "ipython3",
   "version": "3.12.4"
  }
 },
 "nbformat": 4,
 "nbformat_minor": 5
}
