{
 "cells": [
  {
   "cell_type": "code",
   "execution_count": 1,
   "id": "a910af31-57f0-4d90-bfa4-9a34fdf3a8ee",
   "metadata": {},
   "outputs": [
    {
     "name": "stderr",
     "output_type": "stream",
     "text": [
      "C:\\Users\\User\\AppData\\Local\\Programs\\Python\\Python312\\Lib\\site-packages\\tqdm\\auto.py:21: TqdmWarning: IProgress not found. Please update jupyter and ipywidgets. See https://ipywidgets.readthedocs.io/en/stable/user_install.html\n",
      "  from .autonotebook import tqdm as notebook_tqdm\n"
     ]
    }
   ],
   "source": [
    "from PackitTrainer import PackitTrainer"
   ]
  },
  {
   "cell_type": "code",
   "execution_count": 2,
   "id": "fdc02745-cd22-477e-a57b-8ca5c458abc0",
   "metadata": {},
   "outputs": [],
   "source": [
    "trainer1 = PackitTrainer(3, 'triangular')"
   ]
  },
  {
   "cell_type": "code",
   "execution_count": 3,
   "id": "45a6dc30-4abc-4f7f-bb36-29508dc9280a",
   "metadata": {},
   "outputs": [
    {
     "name": "stderr",
     "output_type": "stream",
     "text": [
      "\u001b[32m2024-12-23 21:11:27\u001b[0m \u001b[35mIS-3715\u001b[0m \u001b[34mPackitTrainer[15040]\u001b[0m \u001b[1;30mINFO\u001b[0m Loading the Coach...\n",
      "\u001b[32m2024-12-23 21:11:27\u001b[0m \u001b[35mIS-3715\u001b[0m \u001b[34mPackitTrainer[15040]\u001b[0m \u001b[1;30mINFO\u001b[0m Starting the learning process for triangular board of size 3 🎉\n",
      "\u001b[32m2024-12-23 21:11:28\u001b[0m \u001b[35mIS-3715\u001b[0m \u001b[34mPackitCoach[15040]\u001b[0m \u001b[1;30mINFO\u001b[0m Starting Iter #1 ...\n"
     ]
    },
    {
     "name": "stdout",
     "output_type": "stream",
     "text": [
      "Checkpoint Directory exists! \n"
     ]
    },
    {
     "name": "stderr",
     "output_type": "stream",
     "text": [
      "Self Play: 100%|███████████████████████████████████████████████████████████████████████| 25/25 [00:07<00:00,  3.29it/s]\n"
     ]
    },
    {
     "name": "stdout",
     "output_type": "stream",
     "text": [
      "Checkpoint Directory exists! \n",
      "EPOCH ::: 1\n"
     ]
    },
    {
     "name": "stderr",
     "output_type": "stream",
     "text": [
      "Training Net: 0it [00:00, ?it/s]\n"
     ]
    },
    {
     "name": "stdout",
     "output_type": "stream",
     "text": [
      "EPOCH ::: 2\n"
     ]
    },
    {
     "name": "stderr",
     "output_type": "stream",
     "text": [
      "Training Net: 0it [00:00, ?it/s]\n"
     ]
    },
    {
     "name": "stdout",
     "output_type": "stream",
     "text": [
      "EPOCH ::: 3\n"
     ]
    },
    {
     "name": "stderr",
     "output_type": "stream",
     "text": [
      "Training Net: 0it [00:00, ?it/s]\n"
     ]
    },
    {
     "name": "stdout",
     "output_type": "stream",
     "text": [
      "EPOCH ::: 4\n"
     ]
    },
    {
     "name": "stderr",
     "output_type": "stream",
     "text": [
      "Training Net: 0it [00:00, ?it/s]\n"
     ]
    },
    {
     "name": "stdout",
     "output_type": "stream",
     "text": [
      "EPOCH ::: 5\n"
     ]
    },
    {
     "name": "stderr",
     "output_type": "stream",
     "text": [
      "Training Net: 0it [00:00, ?it/s]\n"
     ]
    },
    {
     "name": "stdout",
     "output_type": "stream",
     "text": [
      "EPOCH ::: 6\n"
     ]
    },
    {
     "name": "stderr",
     "output_type": "stream",
     "text": [
      "Training Net: 0it [00:00, ?it/s]\n"
     ]
    },
    {
     "name": "stdout",
     "output_type": "stream",
     "text": [
      "EPOCH ::: 7\n"
     ]
    },
    {
     "name": "stderr",
     "output_type": "stream",
     "text": [
      "Training Net: 0it [00:00, ?it/s]\n"
     ]
    },
    {
     "name": "stdout",
     "output_type": "stream",
     "text": [
      "EPOCH ::: 8\n"
     ]
    },
    {
     "name": "stderr",
     "output_type": "stream",
     "text": [
      "Training Net: 0it [00:00, ?it/s]\n"
     ]
    },
    {
     "name": "stdout",
     "output_type": "stream",
     "text": [
      "EPOCH ::: 9\n"
     ]
    },
    {
     "name": "stderr",
     "output_type": "stream",
     "text": [
      "Training Net: 0it [00:00, ?it/s]\n"
     ]
    },
    {
     "name": "stdout",
     "output_type": "stream",
     "text": [
      "EPOCH ::: 10\n"
     ]
    },
    {
     "name": "stderr",
     "output_type": "stream",
     "text": [
      "Training Net: 0it [00:00, ?it/s]\n",
      "\u001b[32m2024-12-23 21:11:38\u001b[0m \u001b[35mIS-3715\u001b[0m \u001b[34mPackitCoach[15040]\u001b[0m \u001b[1;30mINFO\u001b[0m PITTING AGAINST PREVIOUS VERSION\n",
      "Arena.playGames (1): 100%|█████████████████████████████████████████████████████████████| 20/20 [00:02<00:00,  7.69it/s]\n",
      "Arena.playGames (2): 100%|█████████████████████████████████████████████████████████████| 20/20 [00:01<00:00, 12.31it/s]\n",
      "\u001b[32m2024-12-23 21:11:42\u001b[0m \u001b[35mIS-3715\u001b[0m \u001b[34mPackitCoach[15040]\u001b[0m \u001b[1;30mINFO\u001b[0m NEW/PREV WINS : 22 / 18\n",
      "\u001b[32m2024-12-23 21:11:42\u001b[0m \u001b[35mIS-3715\u001b[0m \u001b[34mPackitCoach[15040]\u001b[0m \u001b[1;30mINFO\u001b[0m REJECTING NEW MODEL\n",
      "\u001b[32m2024-12-23 21:11:42\u001b[0m \u001b[35mIS-3715\u001b[0m \u001b[34mPackitCoach[15040]\u001b[0m \u001b[1;30mINFO\u001b[0m Starting Iter #2 ...\n"
     ]
    },
    {
     "name": "stdout",
     "output_type": "stream",
     "text": [
      "Player      Going First       Going Second   \n",
      "---------------------------------------------\n",
      "Player 1    18                0              \n",
      "Player 2    20                2              \n"
     ]
    },
    {
     "name": "stderr",
     "output_type": "stream",
     "text": [
      "Self Play: 100%|███████████████████████████████████████████████████████████████████████| 25/25 [00:07<00:00,  3.54it/s]\n"
     ]
    },
    {
     "name": "stdout",
     "output_type": "stream",
     "text": [
      "Checkpoint Directory exists! \n",
      "EPOCH ::: 1\n"
     ]
    },
    {
     "name": "stderr",
     "output_type": "stream",
     "text": [
      "Training Net: 100%|███████████████████████████████████| 1/1 [00:00<00:00,  2.73it/s, Loss_pi=3.47e+00, Loss_v=1.08e+00]\n"
     ]
    },
    {
     "name": "stdout",
     "output_type": "stream",
     "text": [
      "EPOCH ::: 2\n"
     ]
    },
    {
     "name": "stderr",
     "output_type": "stream",
     "text": [
      "Training Net: 100%|███████████████████████████████████| 1/1 [00:00<00:00, 33.69it/s, Loss_pi=3.24e+00, Loss_v=1.23e+00]\n"
     ]
    },
    {
     "name": "stdout",
     "output_type": "stream",
     "text": [
      "EPOCH ::: 3\n"
     ]
    },
    {
     "name": "stderr",
     "output_type": "stream",
     "text": [
      "Training Net: 100%|███████████████████████████████████| 1/1 [00:00<00:00, 26.77it/s, Loss_pi=3.06e+00, Loss_v=1.06e+00]\n"
     ]
    },
    {
     "name": "stdout",
     "output_type": "stream",
     "text": [
      "EPOCH ::: 4\n"
     ]
    },
    {
     "name": "stderr",
     "output_type": "stream",
     "text": [
      "Training Net: 100%|███████████████████████████████████| 1/1 [00:00<00:00, 30.17it/s, Loss_pi=2.98e+00, Loss_v=9.01e-01]\n"
     ]
    },
    {
     "name": "stdout",
     "output_type": "stream",
     "text": [
      "EPOCH ::: 5\n"
     ]
    },
    {
     "name": "stderr",
     "output_type": "stream",
     "text": [
      "Training Net: 100%|███████████████████████████████████| 1/1 [00:00<00:00, 25.37it/s, Loss_pi=2.80e+00, Loss_v=6.53e-01]\n"
     ]
    },
    {
     "name": "stdout",
     "output_type": "stream",
     "text": [
      "EPOCH ::: 6\n"
     ]
    },
    {
     "name": "stderr",
     "output_type": "stream",
     "text": [
      "Training Net: 100%|███████████████████████████████████| 1/1 [00:00<00:00, 29.34it/s, Loss_pi=2.70e+00, Loss_v=7.94e-01]\n"
     ]
    },
    {
     "name": "stdout",
     "output_type": "stream",
     "text": [
      "EPOCH ::: 7\n"
     ]
    },
    {
     "name": "stderr",
     "output_type": "stream",
     "text": [
      "Training Net: 100%|███████████████████████████████████| 1/1 [00:00<00:00, 31.93it/s, Loss_pi=2.69e+00, Loss_v=8.98e-01]\n"
     ]
    },
    {
     "name": "stdout",
     "output_type": "stream",
     "text": [
      "EPOCH ::: 8\n"
     ]
    },
    {
     "name": "stderr",
     "output_type": "stream",
     "text": [
      "Training Net: 100%|███████████████████████████████████| 1/1 [00:00<00:00, 39.83it/s, Loss_pi=2.96e+00, Loss_v=1.25e+00]\n"
     ]
    },
    {
     "name": "stdout",
     "output_type": "stream",
     "text": [
      "EPOCH ::: 9\n"
     ]
    },
    {
     "name": "stderr",
     "output_type": "stream",
     "text": [
      "Training Net: 100%|███████████████████████████████████| 1/1 [00:00<00:00, 48.80it/s, Loss_pi=2.81e+00, Loss_v=7.77e-01]\n"
     ]
    },
    {
     "name": "stdout",
     "output_type": "stream",
     "text": [
      "EPOCH ::: 10\n"
     ]
    },
    {
     "name": "stderr",
     "output_type": "stream",
     "text": [
      "Training Net: 100%|███████████████████████████████████| 1/1 [00:00<00:00, 45.43it/s, Loss_pi=2.68e+00, Loss_v=8.71e-01]\n",
      "\u001b[32m2024-12-23 21:11:50\u001b[0m \u001b[35mIS-3715\u001b[0m \u001b[34mPackitCoach[15040]\u001b[0m \u001b[1;30mINFO\u001b[0m PITTING AGAINST PREVIOUS VERSION\n",
      "Arena.playGames (1): 100%|█████████████████████████████████████████████████████████████| 20/20 [00:02<00:00,  8.04it/s]\n",
      "Arena.playGames (2): 100%|█████████████████████████████████████████████████████████████| 20/20 [00:01<00:00, 12.79it/s]\n",
      "\u001b[32m2024-12-23 21:11:54\u001b[0m \u001b[35mIS-3715\u001b[0m \u001b[34mPackitCoach[15040]\u001b[0m \u001b[1;30mINFO\u001b[0m NEW/PREV WINS : 23 / 17\n",
      "\u001b[32m2024-12-23 21:11:54\u001b[0m \u001b[35mIS-3715\u001b[0m \u001b[34mPackitCoach[15040]\u001b[0m \u001b[1;30mINFO\u001b[0m REJECTING NEW MODEL\n",
      "\u001b[32m2024-12-23 21:11:54\u001b[0m \u001b[35mIS-3715\u001b[0m \u001b[34mPackitTrainer[15040]\u001b[0m \u001b[1;30mINFO\u001b[0m Loading local model checkpoint \"./temp/best_packittrainer.pth.tar\"...\n",
      "\u001b[32m2024-12-23 21:11:54\u001b[0m \u001b[35mIS-3715\u001b[0m \u001b[34mPackitTrainer[15040]\u001b[0m \u001b[1;30mINFO\u001b[0m Loading done!\n"
     ]
    },
    {
     "name": "stdout",
     "output_type": "stream",
     "text": [
      "Player      Going First       Going Second   \n",
      "---------------------------------------------\n",
      "Player 1    17                0              \n",
      "Player 2    20                3              \n"
     ]
    }
   ],
   "source": [
    "trainer1.train(numIters = 2, checkpoint_path = './temp/', best_filename = 'best_packittrainer.pth.tar')"
   ]
  },
  {
   "cell_type": "code",
   "execution_count": 4,
   "id": "343a6854-ecf6-4870-bd24-d978ec34a6dd",
   "metadata": {},
   "outputs": [
    {
     "data": {
      "text/plain": [
       "array([[0, 0, 0, 0, 0],\n",
       "       [0, 0, 1, 0, 0],\n",
       "       [0, 0, 0, 0, 0]])"
      ]
     },
     "execution_count": 4,
     "metadata": {},
     "output_type": "execute_result"
    }
   ],
   "source": [
    "aip1 = trainer1.getAIPlayer()\n",
    "aip1.mcts_get_action(aip1.game.getInitBoard(),1)"
   ]
  },
  {
   "cell_type": "code",
   "execution_count": 5,
   "id": "82162483-b790-43bc-bf1d-05298885c2de",
   "metadata": {},
   "outputs": [
    {
     "name": "stderr",
     "output_type": "stream",
     "text": [
      "\u001b[32m2024-12-23 21:12:40\u001b[0m \u001b[35mIS-3715\u001b[0m \u001b[34mPackitTrainer[15040]\u001b[0m \u001b[1;30mINFO\u001b[0m 'hf_filename' argument not provided, using default location\n",
      "\u001b[32m2024-12-23 21:12:40\u001b[0m \u001b[35mIS-3715\u001b[0m \u001b[34mPackitTrainer[15040]\u001b[0m \u001b[1;30mINFO\u001b[0m Loading HuggingFace model: lgfn/packit-polygons-models/pytorch/triangle_models/size_3/best_cpuct_5.pth.tar...\n",
      "\u001b[32m2024-12-23 21:12:40\u001b[0m \u001b[35mIS-3715\u001b[0m \u001b[34mPackitTrainer[15040]\u001b[0m \u001b[1;30mINFO\u001b[0m Loading done!\n"
     ]
    },
    {
     "data": {
      "text/plain": [
       "array([[0, 0, 0, 0, 0],\n",
       "       [0, 1, 1, 0, 0],\n",
       "       [0, 0, 0, 0, 0]])"
      ]
     },
     "execution_count": 5,
     "metadata": {},
     "output_type": "execute_result"
    }
   ],
   "source": [
    "trainer1.loadModel()\n",
    "aip2 = trainer1.getAIPlayer()\n",
    "aip2.mcts_get_action(aip1.game.getInitBoard(),1)"
   ]
  },
  {
   "cell_type": "code",
   "execution_count": 6,
   "id": "0e7b83d5-959e-4765-9c8a-be5f970e1929",
   "metadata": {},
   "outputs": [
    {
     "name": "stderr",
     "output_type": "stream",
     "text": [
      "\u001b[32m2024-12-23 21:13:57\u001b[0m \u001b[35mIS-3715\u001b[0m \u001b[34mPackitTrainer[15040]\u001b[0m \u001b[1;30mINFO\u001b[0m Loading local model checkpoint \"./temp/best_packittrainer.pth.tar\"...\n",
      "\u001b[32m2024-12-23 21:13:57\u001b[0m \u001b[35mIS-3715\u001b[0m \u001b[34mPackitTrainer[15040]\u001b[0m \u001b[1;30mINFO\u001b[0m Loading done!\n"
     ]
    },
    {
     "data": {
      "text/plain": [
       "array([[0, 0, 0, 0, 0],\n",
       "       [0, 1, 0, 0, 0],\n",
       "       [0, 0, 0, 0, 0]])"
      ]
     },
     "execution_count": 6,
     "metadata": {},
     "output_type": "execute_result"
    }
   ],
   "source": [
    "trainer1.loadModel(local = True, local_folder = './temp/', local_filename = 'best_packittrainer.pth.tar')\n",
    "aip2 = trainer1.getAIPlayer()\n",
    "aip2.mcts_get_action(aip1.game.getInitBoard(),1)"
   ]
  },
  {
   "cell_type": "code",
   "execution_count": 7,
   "id": "d8462dfe-dc3a-4789-bac8-140d101ae4f7",
   "metadata": {},
   "outputs": [
    {
     "data": {
      "text/plain": [
       "array([[1, 0, 0, 0, 0],\n",
       "       [0, 0, 0, 0, 0],\n",
       "       [0, 0, 0, 0, 0]])"
      ]
     },
     "execution_count": 7,
     "metadata": {},
     "output_type": "execute_result"
    }
   ],
   "source": [
    "aip1 = trainer1.getAIPlayer()\n",
    "aip1.mcts_get_action(aip1.game.getInitBoard(),1)"
   ]
  },
  {
   "cell_type": "code",
   "execution_count": null,
   "id": "a71d6536-6968-408d-afa2-281d3e1b6a54",
   "metadata": {},
   "outputs": [],
   "source": [
    "trainer1.loadModel("
   ]
  },
  {
   "cell_type": "code",
   "execution_count": 4,
   "id": "b657822c-4a30-4ff2-8af7-1b994d2c69d2",
   "metadata": {},
   "outputs": [
    {
     "name": "stdout",
     "output_type": "stream",
     "text": [
      "work on keras models in progress\n"
     ]
    }
   ],
   "source": [
    "trainer2 = PackitTrainer(3, 'hexagonal', 'keras')"
   ]
  },
  {
   "cell_type": "code",
   "execution_count": 5,
   "id": "b17adf5a-3993-487e-b9d3-ef744fe09d2e",
   "metadata": {},
   "outputs": [],
   "source": [
    "trainer2 = PackitTrainer(4, 'hexagonal', 'pytorch')"
   ]
  },
  {
   "cell_type": "code",
   "execution_count": 9,
   "id": "a2a3c736-a7c9-42de-b03c-af285087b628",
   "metadata": {},
   "outputs": [
    {
     "name": "stderr",
     "output_type": "stream",
     "text": [
      "\u001b[32m2024-12-22 18:03:53\u001b[0m \u001b[35mIS-3715\u001b[0m \u001b[34mPackitTrainer[25260]\u001b[0m \u001b[1;30mINFO\u001b[0m Loading the Coach...\n",
      "\u001b[32m2024-12-22 18:03:53\u001b[0m \u001b[35mIS-3715\u001b[0m \u001b[34mPackitTrainer[25260]\u001b[0m \u001b[1;30mINFO\u001b[0m Starting the learning process for hexagonal board of size 4 🎉\n",
      "\u001b[32m2024-12-22 18:03:53\u001b[0m \u001b[35mIS-3715\u001b[0m \u001b[34mPackitCoach[25260]\u001b[0m \u001b[1;30mINFO\u001b[0m Starting Iter #1 ...\n",
      "Self Play: 100%|███████████████████████████████████████████████████████████████████████| 25/25 [00:24<00:00,  1.03it/s]\n"
     ]
    },
    {
     "name": "stdout",
     "output_type": "stream",
     "text": [
      "Checkpoint Directory exists! \n",
      "EPOCH ::: 1\n"
     ]
    },
    {
     "name": "stderr",
     "output_type": "stream",
     "text": [
      "Training Net: 100%|███████████████████████████████████| 2/2 [00:00<00:00, 22.46it/s, Loss_pi=6.84e+00, Loss_v=1.34e+00]\n"
     ]
    },
    {
     "name": "stdout",
     "output_type": "stream",
     "text": [
      "EPOCH ::: 2\n"
     ]
    },
    {
     "name": "stderr",
     "output_type": "stream",
     "text": [
      "Training Net: 100%|███████████████████████████████████| 2/2 [00:00<00:00, 19.72it/s, Loss_pi=6.36e+00, Loss_v=1.57e+00]\n"
     ]
    },
    {
     "name": "stdout",
     "output_type": "stream",
     "text": [
      "EPOCH ::: 3\n"
     ]
    },
    {
     "name": "stderr",
     "output_type": "stream",
     "text": [
      "Training Net: 100%|███████████████████████████████████| 2/2 [00:00<00:00, 43.07it/s, Loss_pi=6.01e+00, Loss_v=1.35e+00]\n"
     ]
    },
    {
     "name": "stdout",
     "output_type": "stream",
     "text": [
      "EPOCH ::: 4\n"
     ]
    },
    {
     "name": "stderr",
     "output_type": "stream",
     "text": [
      "Training Net: 100%|███████████████████████████████████| 2/2 [00:00<00:00, 54.96it/s, Loss_pi=5.57e+00, Loss_v=9.51e-01]\n"
     ]
    },
    {
     "name": "stdout",
     "output_type": "stream",
     "text": [
      "EPOCH ::: 5\n"
     ]
    },
    {
     "name": "stderr",
     "output_type": "stream",
     "text": [
      "Training Net: 100%|███████████████████████████████████| 2/2 [00:00<00:00, 53.88it/s, Loss_pi=5.33e+00, Loss_v=9.01e-01]\n"
     ]
    },
    {
     "name": "stdout",
     "output_type": "stream",
     "text": [
      "EPOCH ::: 6\n"
     ]
    },
    {
     "name": "stderr",
     "output_type": "stream",
     "text": [
      "Training Net: 100%|███████████████████████████████████| 2/2 [00:00<00:00, 54.65it/s, Loss_pi=5.19e+00, Loss_v=1.24e+00]\n"
     ]
    },
    {
     "name": "stdout",
     "output_type": "stream",
     "text": [
      "EPOCH ::: 7\n"
     ]
    },
    {
     "name": "stderr",
     "output_type": "stream",
     "text": [
      "Training Net: 100%|███████████████████████████████████| 2/2 [00:00<00:00, 55.75it/s, Loss_pi=5.07e+00, Loss_v=1.06e+00]\n"
     ]
    },
    {
     "name": "stdout",
     "output_type": "stream",
     "text": [
      "EPOCH ::: 8\n"
     ]
    },
    {
     "name": "stderr",
     "output_type": "stream",
     "text": [
      "Training Net: 100%|███████████████████████████████████| 2/2 [00:00<00:00, 61.37it/s, Loss_pi=4.77e+00, Loss_v=9.76e-01]\n"
     ]
    },
    {
     "name": "stdout",
     "output_type": "stream",
     "text": [
      "EPOCH ::: 9\n"
     ]
    },
    {
     "name": "stderr",
     "output_type": "stream",
     "text": [
      "Training Net: 100%|███████████████████████████████████| 2/2 [00:00<00:00, 64.53it/s, Loss_pi=4.68e+00, Loss_v=8.68e-01]\n"
     ]
    },
    {
     "name": "stdout",
     "output_type": "stream",
     "text": [
      "EPOCH ::: 10\n"
     ]
    },
    {
     "name": "stderr",
     "output_type": "stream",
     "text": [
      "Training Net: 100%|███████████████████████████████████| 2/2 [00:00<00:00, 65.16it/s, Loss_pi=4.73e+00, Loss_v=9.93e-01]\n",
      "\u001b[32m2024-12-22 18:04:18\u001b[0m \u001b[35mIS-3715\u001b[0m \u001b[34mPackitCoach[25260]\u001b[0m \u001b[1;30mINFO\u001b[0m PITTING AGAINST PREVIOUS VERSION\n",
      "Arena.playGames (1): 100%|█████████████████████████████████████████████████████████████| 20/20 [00:21<00:00,  1.09s/it]\n",
      "Arena.playGames (2): 100%|█████████████████████████████████████████████████████████████| 20/20 [00:23<00:00,  1.20s/it]\n",
      "\u001b[32m2024-12-22 18:05:04\u001b[0m \u001b[35mIS-3715\u001b[0m \u001b[34mPackitCoach[25260]\u001b[0m \u001b[1;30mINFO\u001b[0m NEW/PREV WINS : 24 / 16\n",
      "\u001b[32m2024-12-22 18:05:04\u001b[0m \u001b[35mIS-3715\u001b[0m \u001b[34mPackitCoach[25260]\u001b[0m \u001b[1;30mINFO\u001b[0m ACCEPTING NEW MODEL\n",
      "\u001b[32m2024-12-22 18:05:04\u001b[0m \u001b[35mIS-3715\u001b[0m \u001b[34mPackitCoach[25260]\u001b[0m \u001b[1;30mINFO\u001b[0m Starting Iter #2 ...\n"
     ]
    },
    {
     "name": "stdout",
     "output_type": "stream",
     "text": [
      "Player      Going First       Going Second   \n",
      "---------------------------------------------\n",
      "Player 1    4                 12             \n",
      "Player 2    8                 16             \n",
      "Checkpoint Directory exists! \n",
      "Checkpoint Directory exists! \n"
     ]
    },
    {
     "name": "stderr",
     "output_type": "stream",
     "text": [
      "Self Play: 100%|███████████████████████████████████████████████████████████████████████| 25/25 [00:26<00:00,  1.07s/it]\n"
     ]
    },
    {
     "name": "stdout",
     "output_type": "stream",
     "text": [
      "Checkpoint Directory exists! \n",
      "EPOCH ::: 1\n"
     ]
    },
    {
     "name": "stderr",
     "output_type": "stream",
     "text": [
      "Training Net: 100%|███████████████████████████████████| 4/4 [00:00<00:00, 21.62it/s, Loss_pi=4.65e+00, Loss_v=1.17e+00]\n"
     ]
    },
    {
     "name": "stdout",
     "output_type": "stream",
     "text": [
      "EPOCH ::: 2\n"
     ]
    },
    {
     "name": "stderr",
     "output_type": "stream",
     "text": [
      "Training Net: 100%|███████████████████████████████████| 4/4 [00:00<00:00, 27.39it/s, Loss_pi=4.58e+00, Loss_v=1.10e+00]\n"
     ]
    },
    {
     "name": "stdout",
     "output_type": "stream",
     "text": [
      "EPOCH ::: 3\n"
     ]
    },
    {
     "name": "stderr",
     "output_type": "stream",
     "text": [
      "Training Net: 100%|███████████████████████████████████| 4/4 [00:00<00:00, 53.26it/s, Loss_pi=4.39e+00, Loss_v=9.78e-01]\n"
     ]
    },
    {
     "name": "stdout",
     "output_type": "stream",
     "text": [
      "EPOCH ::: 4\n"
     ]
    },
    {
     "name": "stderr",
     "output_type": "stream",
     "text": [
      "Training Net: 100%|███████████████████████████████████| 4/4 [00:00<00:00, 51.83it/s, Loss_pi=4.37e+00, Loss_v=1.08e+00]\n"
     ]
    },
    {
     "name": "stdout",
     "output_type": "stream",
     "text": [
      "EPOCH ::: 5\n"
     ]
    },
    {
     "name": "stderr",
     "output_type": "stream",
     "text": [
      "Training Net: 100%|███████████████████████████████████| 4/4 [00:00<00:00, 57.97it/s, Loss_pi=4.24e+00, Loss_v=9.57e-01]\n"
     ]
    },
    {
     "name": "stdout",
     "output_type": "stream",
     "text": [
      "EPOCH ::: 6\n"
     ]
    },
    {
     "name": "stderr",
     "output_type": "stream",
     "text": [
      "Training Net: 100%|███████████████████████████████████| 4/4 [00:00<00:00, 61.17it/s, Loss_pi=4.13e+00, Loss_v=9.81e-01]\n"
     ]
    },
    {
     "name": "stdout",
     "output_type": "stream",
     "text": [
      "EPOCH ::: 7\n"
     ]
    },
    {
     "name": "stderr",
     "output_type": "stream",
     "text": [
      "Training Net: 100%|███████████████████████████████████| 4/4 [00:00<00:00, 63.71it/s, Loss_pi=4.12e+00, Loss_v=8.84e-01]\n"
     ]
    },
    {
     "name": "stdout",
     "output_type": "stream",
     "text": [
      "EPOCH ::: 8\n"
     ]
    },
    {
     "name": "stderr",
     "output_type": "stream",
     "text": [
      "Training Net: 100%|███████████████████████████████████| 4/4 [00:00<00:00, 61.43it/s, Loss_pi=4.16e+00, Loss_v=9.85e-01]\n"
     ]
    },
    {
     "name": "stdout",
     "output_type": "stream",
     "text": [
      "EPOCH ::: 9\n"
     ]
    },
    {
     "name": "stderr",
     "output_type": "stream",
     "text": [
      "Training Net: 100%|███████████████████████████████████| 4/4 [00:00<00:00, 61.36it/s, Loss_pi=3.95e+00, Loss_v=8.34e-01]\n"
     ]
    },
    {
     "name": "stdout",
     "output_type": "stream",
     "text": [
      "EPOCH ::: 10\n"
     ]
    },
    {
     "name": "stderr",
     "output_type": "stream",
     "text": [
      "Training Net: 100%|███████████████████████████████████| 4/4 [00:00<00:00, 60.76it/s, Loss_pi=4.00e+00, Loss_v=7.50e-01]\n",
      "\u001b[32m2024-12-22 18:05:32\u001b[0m \u001b[35mIS-3715\u001b[0m \u001b[34mPackitCoach[25260]\u001b[0m \u001b[1;30mINFO\u001b[0m PITTING AGAINST PREVIOUS VERSION\n",
      "Arena.playGames (1): 100%|█████████████████████████████████████████████████████████████| 20/20 [00:22<00:00,  1.12s/it]\n",
      "Arena.playGames (2): 100%|█████████████████████████████████████████████████████████████| 20/20 [00:23<00:00,  1.17s/it]\n",
      "\u001b[32m2024-12-22 18:06:18\u001b[0m \u001b[35mIS-3715\u001b[0m \u001b[34mPackitCoach[25260]\u001b[0m \u001b[1;30mINFO\u001b[0m NEW/PREV WINS : 18 / 22\n",
      "\u001b[32m2024-12-22 18:06:18\u001b[0m \u001b[35mIS-3715\u001b[0m \u001b[34mPackitCoach[25260]\u001b[0m \u001b[1;30mINFO\u001b[0m REJECTING NEW MODEL\n",
      "\u001b[32m2024-12-22 18:06:18\u001b[0m \u001b[35mIS-3715\u001b[0m \u001b[34mPackitCoach[25260]\u001b[0m \u001b[1;30mINFO\u001b[0m Starting Iter #3 ...\n"
     ]
    },
    {
     "name": "stdout",
     "output_type": "stream",
     "text": [
      "Player      Going First       Going Second   \n",
      "---------------------------------------------\n",
      "Player 1    3                 19             \n",
      "Player 2    1                 17             \n"
     ]
    },
    {
     "name": "stderr",
     "output_type": "stream",
     "text": [
      "Self Play: 100%|███████████████████████████████████████████████████████████████████████| 25/25 [00:27<00:00,  1.09s/it]\n"
     ]
    },
    {
     "name": "stdout",
     "output_type": "stream",
     "text": [
      "Checkpoint Directory exists! \n",
      "EPOCH ::: 1\n"
     ]
    },
    {
     "name": "stderr",
     "output_type": "stream",
     "text": [
      "Training Net: 100%|███████████████████████████████████| 6/6 [00:00<00:00, 24.95it/s, Loss_pi=4.70e+00, Loss_v=1.25e+00]\n"
     ]
    },
    {
     "name": "stdout",
     "output_type": "stream",
     "text": [
      "EPOCH ::: 2\n"
     ]
    },
    {
     "name": "stderr",
     "output_type": "stream",
     "text": [
      "Training Net: 100%|███████████████████████████████████| 6/6 [00:00<00:00, 53.48it/s, Loss_pi=4.45e+00, Loss_v=1.10e+00]\n"
     ]
    },
    {
     "name": "stdout",
     "output_type": "stream",
     "text": [
      "EPOCH ::: 3\n"
     ]
    },
    {
     "name": "stderr",
     "output_type": "stream",
     "text": [
      "Training Net: 100%|███████████████████████████████████| 6/6 [00:00<00:00, 58.79it/s, Loss_pi=4.34e+00, Loss_v=1.04e+00]\n"
     ]
    },
    {
     "name": "stdout",
     "output_type": "stream",
     "text": [
      "EPOCH ::: 4\n"
     ]
    },
    {
     "name": "stderr",
     "output_type": "stream",
     "text": [
      "Training Net: 100%|███████████████████████████████████| 6/6 [00:00<00:00, 64.46it/s, Loss_pi=4.25e+00, Loss_v=9.78e-01]\n"
     ]
    },
    {
     "name": "stdout",
     "output_type": "stream",
     "text": [
      "EPOCH ::: 5\n"
     ]
    },
    {
     "name": "stderr",
     "output_type": "stream",
     "text": [
      "Training Net: 100%|███████████████████████████████████| 6/6 [00:00<00:00, 64.10it/s, Loss_pi=4.03e+00, Loss_v=8.42e-01]\n"
     ]
    },
    {
     "name": "stdout",
     "output_type": "stream",
     "text": [
      "EPOCH ::: 6\n"
     ]
    },
    {
     "name": "stderr",
     "output_type": "stream",
     "text": [
      "Training Net: 100%|███████████████████████████████████| 6/6 [00:00<00:00, 63.13it/s, Loss_pi=4.04e+00, Loss_v=8.70e-01]\n"
     ]
    },
    {
     "name": "stdout",
     "output_type": "stream",
     "text": [
      "EPOCH ::: 7\n"
     ]
    },
    {
     "name": "stderr",
     "output_type": "stream",
     "text": [
      "Training Net: 100%|███████████████████████████████████| 6/6 [00:00<00:00, 62.84it/s, Loss_pi=3.98e+00, Loss_v=7.71e-01]\n"
     ]
    },
    {
     "name": "stdout",
     "output_type": "stream",
     "text": [
      "EPOCH ::: 8\n"
     ]
    },
    {
     "name": "stderr",
     "output_type": "stream",
     "text": [
      "Training Net: 100%|███████████████████████████████████| 6/6 [00:00<00:00, 62.40it/s, Loss_pi=3.85e+00, Loss_v=7.94e-01]\n"
     ]
    },
    {
     "name": "stdout",
     "output_type": "stream",
     "text": [
      "EPOCH ::: 9\n"
     ]
    },
    {
     "name": "stderr",
     "output_type": "stream",
     "text": [
      "Training Net: 100%|███████████████████████████████████| 6/6 [00:00<00:00, 62.11it/s, Loss_pi=3.79e+00, Loss_v=7.87e-01]\n"
     ]
    },
    {
     "name": "stdout",
     "output_type": "stream",
     "text": [
      "EPOCH ::: 10\n"
     ]
    },
    {
     "name": "stderr",
     "output_type": "stream",
     "text": [
      "Training Net: 100%|███████████████████████████████████| 6/6 [00:00<00:00, 65.01it/s, Loss_pi=3.76e+00, Loss_v=7.74e-01]\n",
      "\u001b[32m2024-12-22 18:06:46\u001b[0m \u001b[35mIS-3715\u001b[0m \u001b[34mPackitCoach[25260]\u001b[0m \u001b[1;30mINFO\u001b[0m PITTING AGAINST PREVIOUS VERSION\n",
      "Arena.playGames (1): 100%|█████████████████████████████████████████████████████████████| 20/20 [00:21<00:00,  1.08s/it]\n",
      "Arena.playGames (2): 100%|█████████████████████████████████████████████████████████████| 20/20 [00:21<00:00,  1.06s/it]\n",
      "\u001b[32m2024-12-22 18:07:29\u001b[0m \u001b[35mIS-3715\u001b[0m \u001b[34mPackitCoach[25260]\u001b[0m \u001b[1;30mINFO\u001b[0m NEW/PREV WINS : 20 / 20\n",
      "\u001b[32m2024-12-22 18:07:29\u001b[0m \u001b[35mIS-3715\u001b[0m \u001b[34mPackitCoach[25260]\u001b[0m \u001b[1;30mINFO\u001b[0m REJECTING NEW MODEL\n",
      "\u001b[32m2024-12-22 18:07:29\u001b[0m \u001b[35mIS-3715\u001b[0m \u001b[34mPackitCoach[25260]\u001b[0m \u001b[1;30mINFO\u001b[0m Starting Iter #4 ...\n"
     ]
    },
    {
     "name": "stdout",
     "output_type": "stream",
     "text": [
      "Player      Going First       Going Second   \n",
      "---------------------------------------------\n",
      "Player 1    0                 20             \n",
      "Player 2    0                 20             \n"
     ]
    },
    {
     "name": "stderr",
     "output_type": "stream",
     "text": [
      "Self Play: 100%|███████████████████████████████████████████████████████████████████████| 25/25 [00:26<00:00,  1.06s/it]\n"
     ]
    },
    {
     "name": "stdout",
     "output_type": "stream",
     "text": [
      "Checkpoint Directory exists! \n",
      "EPOCH ::: 1\n"
     ]
    },
    {
     "name": "stderr",
     "output_type": "stream",
     "text": [
      "Training Net: 100%|███████████████████████████████████| 9/9 [00:00<00:00, 25.92it/s, Loss_pi=4.54e+00, Loss_v=1.10e+00]\n"
     ]
    },
    {
     "name": "stdout",
     "output_type": "stream",
     "text": [
      "EPOCH ::: 2\n"
     ]
    },
    {
     "name": "stderr",
     "output_type": "stream",
     "text": [
      "Training Net: 100%|███████████████████████████████████| 9/9 [00:00<00:00, 54.75it/s, Loss_pi=4.35e+00, Loss_v=9.92e-01]\n"
     ]
    },
    {
     "name": "stdout",
     "output_type": "stream",
     "text": [
      "EPOCH ::: 3\n"
     ]
    },
    {
     "name": "stderr",
     "output_type": "stream",
     "text": [
      "Training Net: 100%|███████████████████████████████████| 9/9 [00:00<00:00, 64.24it/s, Loss_pi=4.15e+00, Loss_v=9.45e-01]\n"
     ]
    },
    {
     "name": "stdout",
     "output_type": "stream",
     "text": [
      "EPOCH ::: 4\n"
     ]
    },
    {
     "name": "stderr",
     "output_type": "stream",
     "text": [
      "Training Net: 100%|███████████████████████████████████| 9/9 [00:00<00:00, 61.47it/s, Loss_pi=4.03e+00, Loss_v=8.77e-01]\n"
     ]
    },
    {
     "name": "stdout",
     "output_type": "stream",
     "text": [
      "EPOCH ::: 5\n"
     ]
    },
    {
     "name": "stderr",
     "output_type": "stream",
     "text": [
      "Training Net: 100%|███████████████████████████████████| 9/9 [00:00<00:00, 61.98it/s, Loss_pi=4.02e+00, Loss_v=8.73e-01]\n"
     ]
    },
    {
     "name": "stdout",
     "output_type": "stream",
     "text": [
      "EPOCH ::: 6\n"
     ]
    },
    {
     "name": "stderr",
     "output_type": "stream",
     "text": [
      "Training Net: 100%|███████████████████████████████████| 9/9 [00:00<00:00, 61.99it/s, Loss_pi=3.96e+00, Loss_v=8.75e-01]\n"
     ]
    },
    {
     "name": "stdout",
     "output_type": "stream",
     "text": [
      "EPOCH ::: 7\n"
     ]
    },
    {
     "name": "stderr",
     "output_type": "stream",
     "text": [
      "Training Net: 100%|███████████████████████████████████| 9/9 [00:00<00:00, 61.72it/s, Loss_pi=3.87e+00, Loss_v=7.40e-01]\n"
     ]
    },
    {
     "name": "stdout",
     "output_type": "stream",
     "text": [
      "EPOCH ::: 8\n"
     ]
    },
    {
     "name": "stderr",
     "output_type": "stream",
     "text": [
      "Training Net: 100%|███████████████████████████████████| 9/9 [00:00<00:00, 64.05it/s, Loss_pi=3.71e+00, Loss_v=7.81e-01]\n"
     ]
    },
    {
     "name": "stdout",
     "output_type": "stream",
     "text": [
      "EPOCH ::: 9\n"
     ]
    },
    {
     "name": "stderr",
     "output_type": "stream",
     "text": [
      "Training Net: 100%|███████████████████████████████████| 9/9 [00:00<00:00, 60.81it/s, Loss_pi=3.86e+00, Loss_v=8.13e-01]\n"
     ]
    },
    {
     "name": "stdout",
     "output_type": "stream",
     "text": [
      "EPOCH ::: 10\n"
     ]
    },
    {
     "name": "stderr",
     "output_type": "stream",
     "text": [
      "Training Net: 100%|███████████████████████████████████| 9/9 [00:00<00:00, 61.65it/s, Loss_pi=3.76e+00, Loss_v=7.37e-01]\n",
      "\u001b[32m2024-12-22 18:07:57\u001b[0m \u001b[35mIS-3715\u001b[0m \u001b[34mPackitCoach[25260]\u001b[0m \u001b[1;30mINFO\u001b[0m PITTING AGAINST PREVIOUS VERSION\n",
      "Arena.playGames (1): 100%|█████████████████████████████████████████████████████████████| 20/20 [00:22<00:00,  1.14s/it]\n",
      "Arena.playGames (2): 100%|█████████████████████████████████████████████████████████████| 20/20 [00:22<00:00,  1.15s/it]\n",
      "\u001b[32m2024-12-22 18:08:43\u001b[0m \u001b[35mIS-3715\u001b[0m \u001b[34mPackitCoach[25260]\u001b[0m \u001b[1;30mINFO\u001b[0m NEW/PREV WINS : 23 / 17\n",
      "\u001b[32m2024-12-22 18:08:43\u001b[0m \u001b[35mIS-3715\u001b[0m \u001b[34mPackitCoach[25260]\u001b[0m \u001b[1;30mINFO\u001b[0m REJECTING NEW MODEL\n",
      "\u001b[32m2024-12-22 18:08:43\u001b[0m \u001b[35mIS-3715\u001b[0m \u001b[34mPackitCoach[25260]\u001b[0m \u001b[1;30mINFO\u001b[0m Starting Iter #5 ...\n"
     ]
    },
    {
     "name": "stdout",
     "output_type": "stream",
     "text": [
      "Player      Going First       Going Second   \n",
      "---------------------------------------------\n",
      "Player 1    5                 12             \n",
      "Player 2    8                 15             \n"
     ]
    },
    {
     "name": "stderr",
     "output_type": "stream",
     "text": [
      "Self Play: 100%|███████████████████████████████████████████████████████████████████████| 25/25 [00:28<00:00,  1.14s/it]\n"
     ]
    },
    {
     "name": "stdout",
     "output_type": "stream",
     "text": [
      "Checkpoint Directory exists! \n",
      "EPOCH ::: 1\n"
     ]
    },
    {
     "name": "stderr",
     "output_type": "stream",
     "text": [
      "Training Net: 100%|█████████████████████████████████| 11/11 [00:00<00:00, 34.64it/s, Loss_pi=4.57e+00, Loss_v=1.19e+00]\n"
     ]
    },
    {
     "name": "stdout",
     "output_type": "stream",
     "text": [
      "EPOCH ::: 2\n"
     ]
    },
    {
     "name": "stderr",
     "output_type": "stream",
     "text": [
      "Training Net: 100%|█████████████████████████████████| 11/11 [00:00<00:00, 58.63it/s, Loss_pi=4.36e+00, Loss_v=9.26e-01]\n"
     ]
    },
    {
     "name": "stdout",
     "output_type": "stream",
     "text": [
      "EPOCH ::: 3\n"
     ]
    },
    {
     "name": "stderr",
     "output_type": "stream",
     "text": [
      "Training Net: 100%|█████████████████████████████████| 11/11 [00:00<00:00, 61.93it/s, Loss_pi=4.18e+00, Loss_v=9.30e-01]\n"
     ]
    },
    {
     "name": "stdout",
     "output_type": "stream",
     "text": [
      "EPOCH ::: 4\n"
     ]
    },
    {
     "name": "stderr",
     "output_type": "stream",
     "text": [
      "Training Net: 100%|█████████████████████████████████| 11/11 [00:00<00:00, 60.43it/s, Loss_pi=4.08e+00, Loss_v=9.28e-01]\n"
     ]
    },
    {
     "name": "stdout",
     "output_type": "stream",
     "text": [
      "EPOCH ::: 5\n"
     ]
    },
    {
     "name": "stderr",
     "output_type": "stream",
     "text": [
      "Training Net: 100%|█████████████████████████████████| 11/11 [00:00<00:00, 60.58it/s, Loss_pi=3.88e+00, Loss_v=8.48e-01]\n"
     ]
    },
    {
     "name": "stdout",
     "output_type": "stream",
     "text": [
      "EPOCH ::: 6\n"
     ]
    },
    {
     "name": "stderr",
     "output_type": "stream",
     "text": [
      "Training Net: 100%|█████████████████████████████████| 11/11 [00:00<00:00, 61.85it/s, Loss_pi=3.88e+00, Loss_v=7.60e-01]\n"
     ]
    },
    {
     "name": "stdout",
     "output_type": "stream",
     "text": [
      "EPOCH ::: 7\n"
     ]
    },
    {
     "name": "stderr",
     "output_type": "stream",
     "text": [
      "Training Net: 100%|█████████████████████████████████| 11/11 [00:00<00:00, 60.98it/s, Loss_pi=3.77e+00, Loss_v=7.43e-01]\n"
     ]
    },
    {
     "name": "stdout",
     "output_type": "stream",
     "text": [
      "EPOCH ::: 8\n"
     ]
    },
    {
     "name": "stderr",
     "output_type": "stream",
     "text": [
      "Training Net: 100%|█████████████████████████████████| 11/11 [00:00<00:00, 60.73it/s, Loss_pi=3.73e+00, Loss_v=7.23e-01]\n"
     ]
    },
    {
     "name": "stdout",
     "output_type": "stream",
     "text": [
      "EPOCH ::: 9\n"
     ]
    },
    {
     "name": "stderr",
     "output_type": "stream",
     "text": [
      "Training Net: 100%|█████████████████████████████████| 11/11 [00:00<00:00, 61.65it/s, Loss_pi=3.70e+00, Loss_v=7.83e-01]\n"
     ]
    },
    {
     "name": "stdout",
     "output_type": "stream",
     "text": [
      "EPOCH ::: 10\n"
     ]
    },
    {
     "name": "stderr",
     "output_type": "stream",
     "text": [
      "Training Net: 100%|█████████████████████████████████| 11/11 [00:00<00:00, 60.85it/s, Loss_pi=3.67e+00, Loss_v=6.46e-01]\n",
      "\u001b[32m2024-12-22 18:09:14\u001b[0m \u001b[35mIS-3715\u001b[0m \u001b[34mPackitCoach[25260]\u001b[0m \u001b[1;30mINFO\u001b[0m PITTING AGAINST PREVIOUS VERSION\n",
      "Arena.playGames (1): 100%|█████████████████████████████████████████████████████████████| 20/20 [00:23<00:00,  1.16s/it]\n",
      "Arena.playGames (2): 100%|█████████████████████████████████████████████████████████████| 20/20 [00:25<00:00,  1.26s/it]\n",
      "\u001b[32m2024-12-22 18:10:02\u001b[0m \u001b[35mIS-3715\u001b[0m \u001b[34mPackitCoach[25260]\u001b[0m \u001b[1;30mINFO\u001b[0m NEW/PREV WINS : 23 / 17\n",
      "\u001b[32m2024-12-22 18:10:02\u001b[0m \u001b[35mIS-3715\u001b[0m \u001b[34mPackitCoach[25260]\u001b[0m \u001b[1;30mINFO\u001b[0m REJECTING NEW MODEL\n"
     ]
    },
    {
     "name": "stdout",
     "output_type": "stream",
     "text": [
      "Player      Going First       Going Second   \n",
      "---------------------------------------------\n",
      "Player 1    7                 10             \n",
      "Player 2    10                13             \n"
     ]
    }
   ],
   "source": [
    "trainer2.train(numIters = 5, checkpoint_path = './temp/', best_filename = 'best_packittrainer.pth.tar')"
   ]
  },
  {
   "cell_type": "code",
   "execution_count": 6,
   "id": "80381291-4fb3-4491-8701-6c0723556c20",
   "metadata": {},
   "outputs": [],
   "source": [
    "trainer3 = PackitTrainer(4, 'triangular')"
   ]
  },
  {
   "cell_type": "code",
   "execution_count": 7,
   "id": "2125bf68-dd90-4953-b5d9-23cf88dc593e",
   "metadata": {},
   "outputs": [
    {
     "name": "stderr",
     "output_type": "stream",
     "text": [
      "\u001b[32m2024-12-23 20:41:01\u001b[0m \u001b[35mIS-3715\u001b[0m \u001b[34mPackitTrainer[9932]\u001b[0m \u001b[1;30mINFO\u001b[0m Loading local model checkpoint \"./packit-polygons-models/pytorch/triangle_models/size_4\\best_cpuct_5.pth.tar\"...\n",
      "\u001b[32m2024-12-23 20:41:01\u001b[0m \u001b[35mIS-3715\u001b[0m \u001b[34mPackitTrainer[9932]\u001b[0m \u001b[1;30mINFO\u001b[0m Loading done!\n"
     ]
    }
   ],
   "source": [
    "trainer3.loadModel(local = True, local_folder = './packit-polygons-models/pytorch/triangle_models/size_4', local_filename = 'best_cpuct_5.pth.tar')"
   ]
  },
  {
   "cell_type": "code",
   "execution_count": 8,
   "id": "f15c5a30-f9ce-4601-9c2d-ead9659c210c",
   "metadata": {},
   "outputs": [
    {
     "name": "stderr",
     "output_type": "stream",
     "text": [
      "\u001b[32m2024-12-23 20:41:02\u001b[0m \u001b[35mIS-3715\u001b[0m \u001b[34mPackitTrainer[9932]\u001b[0m \u001b[1;30mINFO\u001b[0m 'hf_filename' argument not provided, using default location\n",
      "\u001b[32m2024-12-23 20:41:02\u001b[0m \u001b[35mIS-3715\u001b[0m \u001b[34mPackitTrainer[9932]\u001b[0m \u001b[1;30mINFO\u001b[0m Loading HuggingFace model: lgfn/packit-polygons-models/pytorch/triangle_models/size_4/best_cpuct_5.pth.tar...\n",
      "\u001b[32m2024-12-23 20:41:03\u001b[0m \u001b[35mIS-3715\u001b[0m \u001b[34mPackitTrainer[9932]\u001b[0m \u001b[1;30mINFO\u001b[0m Loading done!\n"
     ]
    }
   ],
   "source": [
    "trainer3.loadModel()"
   ]
  },
  {
   "cell_type": "code",
   "execution_count": 1,
   "id": "c58d9ba1-25f8-452d-8ca8-1c660b52c5cc",
   "metadata": {},
   "outputs": [
    {
     "name": "stderr",
     "output_type": "stream",
     "text": [
      "C:\\Users\\User\\AppData\\Local\\Programs\\Python\\Python312\\Lib\\site-packages\\tqdm\\auto.py:21: TqdmWarning: IProgress not found. Please update jupyter and ipywidgets. See https://ipywidgets.readthedocs.io/en/stable/user_install.html\n",
      "  from .autonotebook import tqdm as notebook_tqdm\n"
     ]
    }
   ],
   "source": [
    "from PackitAIPlayer import AIPlayer"
   ]
  },
  {
   "cell_type": "code",
   "execution_count": 2,
   "id": "1615f144-0092-4dc9-9cc9-b1b5c3adac5e",
   "metadata": {},
   "outputs": [],
   "source": [
    "aip = AIPlayer(4, 'triangular')"
   ]
  },
  {
   "cell_type": "code",
   "execution_count": 3,
   "id": "9187d218-5458-4071-bc1c-7202e90ee6b2",
   "metadata": {},
   "outputs": [],
   "source": [
    "aip = AIPlayer(3, 'triangular', local = True, local_folder = './temp/', local_filename = 'best_packittrainer.pth.tar')"
   ]
  },
  {
   "cell_type": "code",
   "execution_count": 6,
   "id": "fbe27a2b-9d45-48d2-a195-9847d333a868",
   "metadata": {},
   "outputs": [
    {
     "data": {
      "text/plain": [
       "array([[0, 0, 0, 0, 0],\n",
       "       [0, 1, 0, 0, 0],\n",
       "       [0, 0, 0, 0, 0]])"
      ]
     },
     "execution_count": 6,
     "metadata": {},
     "output_type": "execute_result"
    }
   ],
   "source": [
    "aip.mcts_get_action(aip.game.getInitBoard(),1)"
   ]
  },
  {
   "cell_type": "code",
   "execution_count": null,
   "id": "fe2a12d3-54ce-4572-8b71-3eb1313f3766",
   "metadata": {},
   "outputs": [],
   "source": []
  }
 ],
 "metadata": {
  "kernelspec": {
   "display_name": "Python 3 (ipykernel)",
   "language": "python",
   "name": "python3"
  },
  "language_info": {
   "codemirror_mode": {
    "name": "ipython",
    "version": 3
   },
   "file_extension": ".py",
   "mimetype": "text/x-python",
   "name": "python",
   "nbconvert_exporter": "python",
   "pygments_lexer": "ipython3",
   "version": "3.12.4"
  }
 },
 "nbformat": 4,
 "nbformat_minor": 5
}
